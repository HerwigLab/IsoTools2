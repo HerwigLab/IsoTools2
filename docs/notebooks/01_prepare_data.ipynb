{
 "cells": [
  {
   "cell_type": "markdown",
   "metadata": {},
   "source": [
    "# Setup and Data Preparation\n",
    "\n",
    "For long read transcriptome sequencing (LRTS) analysis, IsoTools depends on the following **input files**:\n",
    "\n",
    "* Reference transcript annotation in gtf or gff3 format (and corresponding index)\n",
    "* Corresponding reference genome sequence in fasta format (and corresponding index)\n",
    "* Aligned LRTS data in bam format (and corresponding index)\n",
    "\n",
    "In this tutorial, we provide guidelines about how to prepare aligned LRTS read files (.bam) and the reference genome and annotation data. **Subsequent tutorials on IsoTools workflow do not depend on executing these steps**. We have compiled a small pre-processed demonstration data set, based on a subset of the genome ([download link](https://nc.molgen.mpg.de/cloud/index.php/s/zYe7g6qnyxGDxRd)). Below, we document how this example data set was produced. \n",
    "\n",
    "In order to prepare the files for IsoTools analysis, the following tools are needed:\n",
    "\n",
    "* [Samtools](http://www.htslib.org/) for indexing of gtf/gff and bam files.\n",
    "* Long read alignment tool, such as [minimap2](https://lh3.github.io/minimap2/) for genomic alignment of the long reads."
   ]
  },
  {
   "cell_type": "markdown",
   "metadata": {},
   "source": [
    "## Reference Genome and Annotation\n",
    "\n",
    "Here, we download the reference transcript annotation and genome seqeunce provided by the [GENCODE](https://www.gencodegenes.org/) project, release 42. Similar files can be obtained from other sources, such as [UCSC (RefSeq)](https://ftp.ncbi.nlm.nih.gov/refseq/) and [Ensembl](https://ftp.ensembl.org/pub/).\n",
    "\n",
    "The transcript annotation needs to be sorted and indexed, for efficient processing, using the samtools tabix command (http://www.htslib.org/doc/tabix.html)."
   ]
  },
  {
   "cell_type": "code",
   "execution_count": 1,
   "metadata": {},
   "outputs": [],
   "source": [
    "refdir='reference'\n",
    "gff='gencode.v42.chr_patch_hapl_scaff.annotation'"
   ]
  },
  {
   "cell_type": "code",
   "execution_count": null,
   "metadata": {},
   "outputs": [
    {
     "name": "stdout",
     "output_type": "stream",
     "text": [
      "Annotation download complete\n",
      "Annotation sorted\n",
      "Annotation indexed\n",
      "Genome download complete\n"
     ]
    },
    {
     "name": "stderr",
     "output_type": "stream",
     "text": [
      "gzip: reference/GRCh38.p13.genome.fa already exists;\tnot overwritten\n"
     ]
    },
    {
     "name": "stdout",
     "output_type": "stream",
     "text": [
      "Genome unzipped\n"
     ]
    }
   ],
   "source": [
    "%%bash -s \"$refdir\" \"$gff\"\n",
    "refdir=$1\n",
    "gff=$2\n",
    "\n",
    "# create a directory for the reference files\n",
    "mkdir -p ${refdir}\n",
    "gencode_url=ftp://ftp.ebi.ac.uk/pub/databases/gencode/Gencode_human/release_42\n",
    "\n",
    "# download gencode reference annotation (62 MB)\n",
    "annotation_link=${gencode_url}/${gff}.gff3.gz\n",
    "wget -q -P ${refdir} ${annotation_link}\n",
    "echo \"Annotation download complete\"\n",
    "\n",
    "# sort by chromosome and position\n",
    "(zcat ${refdir}/${gff}.gff3.gz| \\\n",
    "    grep ^\"#\" ; zcat ${refdir}/${gff}.gff3.gz| \\\n",
    "    grep -v ^\"#\"| sort -k1,1 -k4,4n)| \\\n",
    "    bgzip  > ${refdir}/${gff}_sorted.gff3.gz\n",
    "echo \"Annotation sorted\"\n",
    "\n",
    "# create index\n",
    "tabix -p gff ${refdir}/${gff}_sorted.gff3.gz\n",
    "echo \"Annotation indexed\"\n",
    "\n",
    "# download the reference genome (849 MB)\n",
    "genome_link=${gencode_url}/GRCh38.p13.genome.fa.gz\n",
    "wget -q -P ${refdir} ${genome_link}\n",
    "echo \"Genome download complete\"\n",
    "gunzip ${refdir}/GRCh38.p13.genome.fa.gz\n",
    "echo \"Genome unzipped\""
   ]
  },
  {
   "cell_type": "markdown",
   "metadata": {},
   "source": [
    "## ENCODE long read data\n",
    "\n",
    "The ENCODE project provides both PacBio isoseq and ONT data of various cell lines and tissues. The data can be downloaded as reads in `fastq` format, or aligned `bam` files.\n",
    "\n",
    "Here we demonstrate how this resource can be accessed from within python, and how to select and download pre-processed data. You can also manually download the files using the data portal from [the ENCODE project web page](https://www.encodeproject.org/) and download aligned `bam` files.\n",
    "\n",
    "In the following snippet, we select all available PacBio Sequel II leukemia and B-cell samples, but of course you can customise the sample selection to your needs."
   ]
  },
  {
   "cell_type": "code",
   "execution_count": null,
   "metadata": {},
   "outputs": [
    {
     "name": "stdout",
     "output_type": "stream",
     "text": [
      "Pacific Biosciences Sequel II: In total 82 experiments from ENCODE\n",
      "Oxford Nanopore MinION: In total 14 experiments from ENCODE\n",
      "Pacific Biosciences Sequel: In total 16 experiments from ENCODE\n",
      "Oxford Nanopore PromethION: In total 4 experiments from ENCODE\n"
     ]
    }
   ],
   "source": [
    "import requests\n",
    "from pathlib import Path\n",
    "from collections import Counter\n",
    "import os\n",
    "import pandas as pd\n",
    "\n",
    "\n",
    "# we prepare a subdirectory for the encode files\n",
    "Path('./encode').mkdir(parents=True, exist_ok=True)\n",
    "\n",
    "# first, check what samples are present\n",
    "data=[('type','Experiment'),\n",
    "      ('assay_title','long read RNA-seq'),\n",
    "      ('replicates.library.biosample.donor.organism.scientific_name','Homo sapiens'),\n",
    "      ('files.file_type','bam'),\n",
    "      ('files.file_type','fastq')\n",
    "     ]\n",
    "resp=requests.get(\"https://www.encodeproject.org/metadata/\", params=data)\n",
    "header, data=resp.content.decode('utf-8').split('\\n',1)\n",
    "metadata=pd.DataFrame([row.split('\\t') for row in data.split('\\n')],\n",
    "                      columns=header.split('\\t')).replace(\"\", pd.NA)\n",
    "\n",
    "# some information, as the instrument model used for sequencing, are not available for processed files,\n",
    "# so it needs to be copied from the raw data.\n",
    "platform=metadata.set_index('Experiment accession').Platform.dropna().to_dict()\n",
    "# Number of experiments per instrument model\n",
    "for pf,count in Counter(platform.values()).items():\n",
    "    print(f'{pf}: In total {count} experiments from ENCODE')\n",
    "\n",
    "# select the reads from the metadata and make sure there are only read fastq files are in the table\n",
    "all_samples=metadata.query('`Output type`==\"reads\" and `File Status` == \"released\"')\n",
    "all_samples=all_samples.set_index('Experiment accession').copy()\n",
    "# Platform info is missing for some files\n",
    "all_samples['Platform']=[platform.get(ea,'unknown') for ea in all_samples.index]\n",
    "col_select=['File accession','Biosample term name','Biosample type',\n",
    "            'Technical replicate(s)','Platform']\n",
    "all_samples=all_samples[col_select].sort_values(\n",
    "    ['Biosample type','Biosample term name','Technical replicate(s)'] )\n",
    "all_samples=all_samples.rename({'File accession':'reads accession'},axis=1)\n",
    "\n",
    "# add the alignments from the metadata\n",
    "alignment=metadata.set_index('Experiment accession').query('`Output type`==\"alignments\"')\n",
    "alignment=alignment['File accession'].to_dict()\n",
    "alignment_acc=[alignment.get(idx, 'NA') for idx in all_samples.index ]\n",
    "all_samples.insert(1,'alignment accession', alignment_acc)\n",
    "all_samples.to_csv('encode/all_samples.csv', index=False)\n"
   ]
  },
  {
   "cell_type": "code",
   "execution_count": null,
   "metadata": {},
   "outputs": [
    {
     "data": {
      "text/html": [
       "<div>\n",
       "<style scoped>\n",
       "    .dataframe tbody tr th:only-of-type {\n",
       "        vertical-align: middle;\n",
       "    }\n",
       "\n",
       "    .dataframe tbody tr th {\n",
       "        vertical-align: top;\n",
       "    }\n",
       "\n",
       "    .dataframe thead th {\n",
       "        text-align: right;\n",
       "    }\n",
       "</style>\n",
       "<table border=\"1\" class=\"dataframe\">\n",
       "  <thead>\n",
       "    <tr style=\"text-align: right;\">\n",
       "      <th></th>\n",
       "      <th>reads accession</th>\n",
       "      <th>alignment accession</th>\n",
       "      <th>Biosample term name</th>\n",
       "      <th>Biosample type</th>\n",
       "      <th>Technical replicate(s)</th>\n",
       "      <th>Platform</th>\n",
       "    </tr>\n",
       "  </thead>\n",
       "  <tbody>\n",
       "    <tr>\n",
       "      <th>0</th>\n",
       "      <td>ENCFF417VHJ</td>\n",
       "      <td>ENCFF219UJG</td>\n",
       "      <td>GM12878</td>\n",
       "      <td>cell line</td>\n",
       "      <td>1_1</td>\n",
       "      <td>Pacific Biosciences Sequel II</td>\n",
       "    </tr>\n",
       "    <tr>\n",
       "      <th>1</th>\n",
       "      <td>ENCFF450VAU</td>\n",
       "      <td>ENCFF225CCJ</td>\n",
       "      <td>GM12878</td>\n",
       "      <td>cell line</td>\n",
       "      <td>1_1</td>\n",
       "      <td>Pacific Biosciences Sequel II</td>\n",
       "    </tr>\n",
       "    <tr>\n",
       "      <th>2</th>\n",
       "      <td>ENCFF694DIE</td>\n",
       "      <td>ENCFF225CCJ</td>\n",
       "      <td>GM12878</td>\n",
       "      <td>cell line</td>\n",
       "      <td>2_1</td>\n",
       "      <td>Pacific Biosciences Sequel II</td>\n",
       "    </tr>\n",
       "    <tr>\n",
       "      <th>3</th>\n",
       "      <td>ENCFF696GDL</td>\n",
       "      <td>ENCFF322UJU</td>\n",
       "      <td>K562</td>\n",
       "      <td>cell line</td>\n",
       "      <td>1_1</td>\n",
       "      <td>Pacific Biosciences Sequel II</td>\n",
       "    </tr>\n",
       "    <tr>\n",
       "      <th>4</th>\n",
       "      <td>ENCFF429VVB</td>\n",
       "      <td>ENCFF645UVN</td>\n",
       "      <td>K562</td>\n",
       "      <td>cell line</td>\n",
       "      <td>1_1</td>\n",
       "      <td>Pacific Biosciences Sequel II</td>\n",
       "    </tr>\n",
       "    <tr>\n",
       "      <th>5</th>\n",
       "      <td>ENCFF634YSN</td>\n",
       "      <td>ENCFF645UVN</td>\n",
       "      <td>K562</td>\n",
       "      <td>cell line</td>\n",
       "      <td>2_1</td>\n",
       "      <td>Pacific Biosciences Sequel II</td>\n",
       "    </tr>\n",
       "  </tbody>\n",
       "</table>\n",
       "</div>"
      ],
      "text/plain": [
       "  reads accession alignment accession Biosample term name Biosample type  \\\n",
       "0     ENCFF417VHJ         ENCFF219UJG             GM12878      cell line   \n",
       "1     ENCFF450VAU         ENCFF225CCJ             GM12878      cell line   \n",
       "2     ENCFF694DIE         ENCFF225CCJ             GM12878      cell line   \n",
       "3     ENCFF696GDL         ENCFF322UJU                K562      cell line   \n",
       "4     ENCFF429VVB         ENCFF645UVN                K562      cell line   \n",
       "5     ENCFF634YSN         ENCFF645UVN                K562      cell line   \n",
       "\n",
       "  Technical replicate(s)                       Platform  \n",
       "0                    1_1  Pacific Biosciences Sequel II  \n",
       "1                    1_1  Pacific Biosciences Sequel II  \n",
       "2                    2_1  Pacific Biosciences Sequel II  \n",
       "3                    1_1  Pacific Biosciences Sequel II  \n",
       "4                    1_1  Pacific Biosciences Sequel II  \n",
       "5                    2_1  Pacific Biosciences Sequel II  "
      ]
     },
     "execution_count": 4,
     "metadata": {},
     "output_type": "execute_result"
    }
   ],
   "source": [
    "# we select alignment files of hematopoetic samples sequenced on Sequel II instruments\n",
    "# this can be adjusted this as needed\n",
    "group={\"K562\":'CML', \"GM12878\":'B-cell'}\n",
    "selected_samples=all_samples.query(\n",
    "    'Platform == \"Pacific Biosciences Sequel II\" and `Biosample term name` in @group')\n",
    "selected_samples=selected_samples.sort_values(\n",
    "    ['Biosample term name','Technical replicate(s)'] ).reset_index(drop=True)\n",
    "selected_samples.to_csv('encode/encode_samples.csv', index=False)\n",
    "selected_samples"
   ]
  },
  {
   "cell_type": "code",
   "execution_count": null,
   "metadata": {},
   "outputs": [
    {
     "name": "stdout",
     "output_type": "stream",
     "text": [
      "selected 6 samples\n",
      "reads file ENCFF417VHJ already found\n",
      "reads file ENCFF450VAU already found\n",
      "reads file ENCFF694DIE already found\n",
      "reads file ENCFF696GDL already found\n",
      "reads file ENCFF429VVB already found\n",
      "reads file ENCFF634YSN already found\n"
     ]
    }
   ],
   "source": [
    "from urllib.request import urlretrieve\n",
    "import pysam\n",
    "\n",
    "\n",
    "# print the sample table\n",
    "print(f'selected {len(selected_samples)} samples')\n",
    "\n",
    "download='reads' # or 'alignments'\n",
    "\n",
    "# download and index the selected files, if not present\n",
    "for accession in selected_samples[f'{download} accession']:\n",
    "    url=metadata.loc[metadata['File accession']==accession,'File download URL'].values[0]\n",
    "    file=os.path.split(url)[1]\n",
    "    if not os.path.isfile(f\"encode/{file}\"):\n",
    "        print(f'downloading {download} file for {accession}')\n",
    "        urlretrieve(url, f\"encode/{file}\")\n",
    "    else:\n",
    "        print(f'{download} file {accession} already found')\n",
    "    if download=='alignment':\n",
    "        bai=f\"encode/{file}.bai\"\n",
    "        if (not os.path.isfile(bai) or\n",
    "            os.path.getmtime(f\"encode/{file}\")>os.path.getmtime(bai)):\n",
    "            logger.info(f'indexing {accession}')\n",
    "            pysam.index(f\"encode/{file}\")\n"
   ]
  },
  {
   "cell_type": "markdown",
   "metadata": {},
   "source": [
    "## Alignment\n",
    "\n",
    "There are several tools for the alignment of long reads, including [minimap2](https://github.com/lh3/minimap2), [gmap](http://research-pub.gene.com/gmap/), and [uLTRA](https://github.com/ksahlin/ultra). Here, we use minimap2, but IsoTools is independent of the alignment tool.\n",
    "\n",
    "In this demonstration, the fastq files downloaded from the ENCODE project are pre-processed fastq files. If you need to generate fastq files from raw data, PacBio and ONT both have their own pre-processing pipelines, [IsoSeq](https://github.com/PacificBiosciences/IsoSeq) to produce full-length reads from PacBio subreads or CCS reads and [Dorado](https://github.com/nanoporetech/dorado) to convert the nanopore electrical signals into the corresponding base sequence.\n",
    "\n",
    "Please note that when following the PacBio IsoSeq pipeline, resulting sequencing reads are stored in unaligned `bam` files, which need to be formatted in `fastq` before alignment with minimap2. The following command uses the recommended parameters for PacBio isoseq reads (with additional `--MD` for mutation information, which is optional), and sorts the resulting alignment by genomic position. For more details, please refer to the [IsoSeq documentation](https://isoseq.how/)."
   ]
  },
  {
   "cell_type": "code",
   "execution_count": null,
   "metadata": {
    "tags": []
   },
   "outputs": [
    {
     "name": "stderr",
     "output_type": "stream",
     "text": [
      "[M::main::29.206*0.71] loaded/built the index for 639 target sequence(s)\n",
      "[M::mm_mapopt_update::32.293*0.74] mid_occ = 807\n",
      "[M::mm_idx_stat] kmer size: 15; skip: 5; is_hpc: 0; #seq: 639\n",
      "[M::mm_idx_stat::34.131*0.75] distinct minimizers: 167322536 (34.16% are singletons); average occurrences: 6.354; average spacing: 3.073; total length: 3267117988\n",
      "[M::main] Version: 2.27-r1193\n",
      "[M::main] CMD: minimap2 -t 80 -ax splice:hq -uf --MD reference/GRCh38.p13.genome_hq.mmi -\n",
      "[M::main] Real time: 35.335 sec; CPU: 26.868 sec; Peak RSS: 13.800 GB\n",
      "[E::hts_open_format] Failed to open file \"/path/to/sampleX_aligned.bam\" : No such file or directory\n",
      "samtools sort: failed to create \"/path/to/sampleX_aligned.bam\": No such file or directory\n",
      "[E::hts_open_format] Failed to open file \"/path/to/sampleX_aligned.bam\" : No such file or directory\n",
      "samtools index: failed to open \"/path/to/sampleX_aligned.bam\": No such file or directory\n"
     ]
    }
   ],
   "source": [
    "%%bash -s \"$refdir\"\n",
    "refdir=$1\n",
    "\n",
    "ref=${refdir}/GRCh38.p13.genome\n",
    "ubam=/path/to/sampleX_long_read_sequences.bam\n",
    "out=/path/to/sampleX_aligned\n",
    "\n",
    "# prepare the reference\n",
    "minimap2 -x splice:hq -d ${ref}_hq.mmi ${ref}.fa\n",
    "\n",
    "# align the reads and sort (calculating MD tag is optional)\n",
    "samtools fastq $ubam| \\\n",
    "    minimap2 -t 80 -ax splice:hq -uf --MD ${ref}_hq.mmi - | \\\n",
    "    samtools sort -O BAM -o ${out}.bam -\n",
    "\n",
    "# index alignment file\n",
    "samtools index ${out}.bam"
   ]
  },
  {
   "cell_type": "markdown",
   "metadata": {},
   "source": [
    "## Demonstration Data\n",
    "\n",
    "To create an demonstration data set, we aligned the ENCODE fastq files with minimap2, and sub-selected reads mapping to chromosome 8 only. All resulting files (~270 Mb) [can be downloaded here](https://nc.molgen.mpg.de/cloud/index.php/s/zYe7g6qnyxGDxRd)."
   ]
  },
  {
   "cell_type": "code",
   "execution_count": null,
   "metadata": {},
   "outputs": [
    {
     "name": "stdout",
     "output_type": "stream",
     "text": [
      "alignment for ENCFF417VHJ already exists\n",
      "alignment for ENCFF429VVB already exists\n",
      "alignment for ENCFF450VAU already exists\n",
      "alignment for ENCFF634YSN already exists\n",
      "alignment for ENCFF694DIE already exists\n",
      "alignment for ENCFF696GDL already exists\n"
     ]
    },
    {
     "name": "stdout",
     "output_type": "stream",
     "text": [
      "Genome subset for chr8 complete\n",
      "Annotation subset for chr8 complete\n"
     ]
    }
   ],
   "source": [
    "%%bash -s \"$refdir\" \"$gff\"\n",
    "refdir=$1\n",
    "gff=$2\n",
    "\n",
    "ref=${refdir}/GRCh38.p13.genome\n",
    "chr_select=chr8\n",
    "\n",
    "for fq in encode/*fastq.gz; do\n",
    "    fn=$(basename $fq)\n",
    "    id=${fn%*.fastq.gz}\n",
    "    out=encode/${id}_aligned_mm2\n",
    "    if [ ! -e ${out}.bam ]; then\n",
    "        # align the fastq\n",
    "        minimap2 -t 40 -ax splice:hq -uf --MD -a ${ref}_hq.mmi $fq |\\\n",
    "            samtools sort -O BAM -o ${out}.bam -\n",
    "        samtools index ${out}.bam\n",
    "        # subset the alignment\n",
    "        samtools view -b  --write-index \\\n",
    "            -o ${out}_${chr_select}.bam##idx##${out}_${chr_select}.bam.bai \\\n",
    "            ${out}.bam  $chr_select\n",
    "    else\n",
    "        echo \"alignment for $id already exists\"\n",
    "    fi\n",
    "done\n",
    "\n",
    "# subset the genome\n",
    "samtools faidx ${refdir}/GRCh38.p13.genome.fa $chr_select > \\\n",
    "    ${refdir}/GRCh38.p13.genome_${chr_select}.fa\n",
    "samtools faidx ${refdir}/GRCh38.p13.genome_${chr_select}.fa\n",
    "echo \"Genome subset for $chr_select complete\"\n",
    "\n",
    "# subset the annotation\n",
    "tabix -h ${refdir}/${gff}_sorted.gff3.gz ${chr_select}| \\\n",
    "    bgzip > ${refdir}/${gff}_sorted_${chr_select}.gff3.gz\n",
    "tabix -p gff ${refdir}/${gff}_sorted_${chr_select}.gff3.gz\n",
    "echo \"Annotation subset for $chr_select complete\""
   ]
  },
  {
   "cell_type": "markdown",
   "metadata": {},
   "source": [
    "Finally we create symlinks and a tsv file which are required in the [next tutorial](./02_api_vs_cli.ipynb)."
   ]
  },
  {
   "cell_type": "code",
   "execution_count": 8,
   "metadata": {},
   "outputs": [],
   "source": [
    "%%bash\n",
    "chr_select=chr8\n",
    "mkdir -p demonstration_dataset\n",
    "cd demonstration_dataset\n",
    "\n",
    "if [ ! -e GRCh38.p13.genome_${chr_select}.fa ]; then\n",
    "    ln -s ../reference/GRCh38.p13.genome_${chr_select}.fa\n",
    "    ln -s ../reference/GRCh38.p13.genome_${chr_select}.fa.fai\n",
    "    ln -s ../reference/gencode.v42.chr_patch_hapl_scaff.annotation_sorted_${chr_select}.gff3.gz\n",
    "    ln -s ../reference/gencode.v42.chr_patch_hapl_scaff.annotation_sorted_${chr_select}.gff3.gz.tbi\n",
    "    for bam in ../encode/*_aligned_mm2_${chr_select}.bam; do\n",
    "        ln -s $bam\n",
    "        ln -s $bam.bai\n",
    "    done\n",
    "fi"
   ]
  },
  {
   "cell_type": "code",
   "execution_count": 9,
   "metadata": {},
   "outputs": [],
   "source": [
    "chr_select='chr8'\n",
    "selected_samples['reads accession']\n",
    "encode_samples=pd.DataFrame()\n",
    "uniq_sample_names = {i:0 for i in selected_samples['Biosample term name'].unique()}\n",
    "\n",
    "def sample_name(x):\n",
    "    uniq_sample_names[x] += 1\n",
    "    return f'{x}_{chr(uniq_sample_names[x] + 96)}' # transform to a, b, c, ...\n",
    "\n",
    "encode_samples['sample_name'] = selected_samples['Biosample term name'].apply(sample_name)\n",
    "encode_samples['file_name'] = selected_samples['reads accession'].apply(lambda x: f'{x}_aligned_mm2_{chr_select}.bam')\n",
    "encode_samples['group'] = selected_samples['Biosample term name']\n",
    "encode_samples.to_csv('demonstration_dataset/encode_samples.tsv', index=False, sep='\\t')"
   ]
  }
 ],
 "metadata": {
  "kernelspec": {
   "display_name": "iso",
   "language": "python",
   "name": "python3"
  },
  "language_info": {
   "codemirror_mode": {
    "name": "ipython",
    "version": 3
   },
   "file_extension": ".py",
   "mimetype": "text/x-python",
   "name": "python",
   "nbconvert_exporter": "python",
   "pygments_lexer": "ipython3",
   "version": "3.10.14"
  }
 },
 "nbformat": 4,
 "nbformat_minor": 4
}
