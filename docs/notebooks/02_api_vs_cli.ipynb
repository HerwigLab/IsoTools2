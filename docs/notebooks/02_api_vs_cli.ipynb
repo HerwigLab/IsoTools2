{
 "cells": [
  {
   "cell_type": "markdown",
   "metadata": {},
   "source": [
    "# Command Line Interface (CLI)\n",
    "IsoTools is a python library for the analysis of long read data. \n",
    "It starts from aligned reads (e.g. bamfiles) and features transcriptome reconstruction, quantification, visualization, explorative analysis and statistical tests.\n",
    "IsoTools is designed to be run interactively (e.g. in a python notebook, or in the repl), as it features rich functionality to explore the data. \n",
    "However, it can also be run as a command line tool, with predefined parameters. This is convenient to process different experiments in a standardized pipeline.\n",
    "All command line parameters are described in the [CLI section](../isotoolsCLI.html):\n",
    "\n",
    "\n",
    "To run the commands, need the following **input files** from the [prepared demonstration dataset](https://nc.molgen.mpg.de/cloud/index.php/s/zYe7g6qnyxGDxRd):\n",
    "\n",
    "* sample description file 'encode_samples.tsv'\n",
    "* six .bam alignment files for the six samples\n",
    "* six corresponding .bam.bai indices\n",
    "* reference annotation file gencode.v42.chr_patch_hapl_scaff.annotation_sorted_chr8.gff3.gz\n",
    "* corresponding .gff3.gz.tbi index file\n",
    "* genomic reference file GRCh38.p13.genome_chr8.fa\n",
    "* corresponding .fai index file\n",
    "\n",
    "The sample description file is a tab-separated text file with at least the following columns:\n",
    "\n",
    "* **sample_name**: A unique sample label\n",
    "* **file_name**: The path to the alignment .bam file\n",
    "* **group**: a group assignment of the sample\n",
    "\n",
    "\n",
    "The following command runs IsoTools and performs the following analysis steps:\n",
    "\n",
    "* transcriptome reconstruction from the alignments\n",
    "* filtering transcripts according to filter query (--filter_query)\n",
    "    * see [filter tutorial](06_filtering.html#Filtering-tags-and-queries) for a description of tags and queries.\n",
    "* exporting transcripts as gtf (--gtf_out)\n",
    "* exporting a transcript table, which includes the number of reads per transcripts (--transcript_table)\n",
    "* finally, by default, a pkl file is produced, which contains the transcriptome object, reducing runtime of the next call of the CLI.\n",
    "    * The resulting transcriptome can also be explored using the API.\n",
    "    * creation of the pkl file can be skipped with --no-pkl\n",
    "    * import of the previous pkl file can be bypassed with the --force-recreate command\n",
    "    * if a pkl file is present, and a sample table containing novel samples is provided, only the novel samples are added\n",
    "* the two parameters \"--log\" INFO and \"--progress_bar\" enable readout of the progress. "
   ]
  },
  {
   "cell_type": "code",
   "execution_count": 9,
   "metadata": {},
   "outputs": [
    {
     "name": "stderr",
     "output_type": "stream",
     "text": [
      "2024-03-28 12:56:45 INFO: This is isotools version 0.3.4\n",
      "2024-03-28 12:56:45 INFO: loading transcriptome from ./PacBio_isotools_substantial_isotools.pkl\n",
      "2024-03-28 12:56:45 INFO: importing reference from gff3 file gencode.v42.chr_patch_hapl_scaff.annotation_sorted_chr8.gff3.gz\n",
      "100%|█████████▉| 2.70M/2.70M [00:02<00:00, 1.29MB/s]\n",
      "2024-03-28 12:56:48 INFO: skipped the following categories: {'three_prime_UTR', 'CDS', 'five_prime_UTR'}\n",
      "2024-03-28 12:56:48 WARNING: Missing genes! Found gene information in categories ['gene'] for 2540/5080 genes\n",
      "2024-03-28 12:56:48 INFO: collapsed 0 immunoglobulin loci and 0 T-cell receptor loci\n",
      "2024-03-28 12:56:48 INFO: adding sample GM12878_a from file ENCFF417VHJ_aligned_mm2_chr8.bam\n",
      "100%|██████████| 53.0k/53.0k [00:10<00:00, 5.01kreads/s, chr=KI270757.1]\n",
      "2024-03-28 12:56:58 INFO: skipped 113 reads aligned fraction of less than 0.75.\n",
      "2024-03-28 12:56:58 INFO: skipped 10940 secondary alignments (0x100), alignment that failed quality check (0x200) or PCR duplicates (0x400)\n",
      "2024-03-28 12:56:58 WARNING: ignored 532 chimeric alignments with only one part aligned to specified chromosomes.\n",
      "2024-03-28 12:56:58 INFO: ignoring 2235 chimeric alignments with less than 2 reads\n",
      "2024-03-28 12:56:58 INFO: imported 40177 nonchimeric reads (including  14 chained chimeric alignments) and 73 chimeric reads with coverage of at least 2.\n",
      "2024-03-28 12:56:58 INFO: adding sample GM12878_b from file ENCFF450VAU_aligned_mm2_chr8.bam\n",
      "100%|██████████| 68.3k/68.3k [00:11<00:00, 5.94kreads/s, chr=KI270757.1]\n",
      "2024-03-28 12:57:10 INFO: skipped 72 reads aligned fraction of less than 0.75.\n",
      "2024-03-28 12:57:10 INFO: skipped 12598 secondary alignments (0x100), alignment that failed quality check (0x200) or PCR duplicates (0x400)\n",
      "2024-03-28 12:57:10 WARNING: ignored 485 chimeric alignments with only one part aligned to specified chromosomes.\n",
      "2024-03-28 12:57:10 INFO: ignoring 1275 chimeric alignments with less than 2 reads\n",
      "2024-03-28 12:57:10 INFO: imported 54856 nonchimeric reads (including  12 chained chimeric alignments) and 7 chimeric reads with coverage of at least 2.\n",
      "2024-03-28 12:57:10 INFO: adding sample GM12878_c from file ENCFF694DIE_aligned_mm2_chr8.bam\n",
      "[W::hts_idx_load3] The index file is older than the data file: ENCFF694DIE_aligned_mm2_chr8.bam.bai\n",
      "100%|██████████| 90.6k/90.6k [00:13<00:00, 6.74kreads/s, chr=KI270757.1]\n",
      "2024-03-28 12:57:23 INFO: skipped 84 reads aligned fraction of less than 0.75.\n",
      "2024-03-28 12:57:23 INFO: skipped 17108 secondary alignments (0x100), alignment that failed quality check (0x200) or PCR duplicates (0x400)\n",
      "2024-03-28 12:57:23 WARNING: ignored 456 chimeric alignments with only one part aligned to specified chromosomes.\n",
      "2024-03-28 12:57:23 INFO: ignoring 1412 chimeric alignments with less than 2 reads\n",
      "2024-03-28 12:57:23 INFO: imported 72445 nonchimeric reads (including  38 chained chimeric alignments) and 12 chimeric reads with coverage of at least 2.\n",
      "2024-03-28 12:57:23 INFO: adding sample K562_a from file ENCFF429VVB_aligned_mm2_chr8.bam\n",
      "100%|██████████| 107k/107k [00:19<00:00, 5.44kreads/s, chr=KI270757.1]\n",
      "2024-03-28 12:57:43 INFO: skipped 299 reads aligned fraction of less than 0.75.\n",
      "2024-03-28 12:57:43 INFO: skipped 23934 secondary alignments (0x100), alignment that failed quality check (0x200) or PCR duplicates (0x400)\n",
      "2024-03-28 12:57:43 WARNING: ignored 2161 chimeric alignments with only one part aligned to specified chromosomes.\n",
      "2024-03-28 12:57:43 INFO: ignoring 7465 chimeric alignments with less than 2 reads\n",
      "2024-03-28 12:57:43 INFO: imported 76686 nonchimeric reads (including  63 chained chimeric alignments) and 415 chimeric reads with coverage of at least 2.\n",
      "2024-03-28 12:57:43 INFO: adding sample K562_b from file ENCFF696GDL_aligned_mm2_chr8.bam\n",
      "[W::hts_idx_load3] The index file is older than the data file: ENCFF696GDL_aligned_mm2_chr8.bam.bai\n",
      "100%|██████████| 77.9k/77.9k [00:14<00:00, 5.30kreads/s, chr=KI270757.1]\n",
      "2024-03-28 12:57:58 INFO: skipped 166 reads aligned fraction of less than 0.75.\n",
      "2024-03-28 12:57:58 INFO: skipped 14966 secondary alignments (0x100), alignment that failed quality check (0x200) or PCR duplicates (0x400)\n",
      "2024-03-28 12:57:58 WARNING: ignored 1145 chimeric alignments with only one part aligned to specified chromosomes.\n",
      "2024-03-28 12:57:58 INFO: ignoring 4547 chimeric alignments with less than 2 reads\n",
      "2024-03-28 12:57:58 INFO: imported 59121 nonchimeric reads (including  49 chained chimeric alignments) and 281 chimeric reads with coverage of at least 2.\n",
      "2024-03-28 12:57:58 INFO: adding sample K562_c from file ENCFF634YSN_aligned_mm2_chr8.bam\n",
      "[W::hts_idx_load3] The index file is older than the data file: ENCFF634YSN_aligned_mm2_chr8.bam.bai\n",
      "100%|██████████| 117k/117k [00:18<00:00, 6.22kreads/s, chr=KI270757.1]\n",
      "2024-03-28 12:58:17 INFO: skipped 295 reads aligned fraction of less than 0.75.\n",
      "2024-03-28 12:58:17 INFO: skipped 30149 secondary alignments (0x100), alignment that failed quality check (0x200) or PCR duplicates (0x400)\n",
      "2024-03-28 12:58:17 WARNING: ignored 2522 chimeric alignments with only one part aligned to specified chromosomes.\n",
      "2024-03-28 12:58:17 INFO: ignoring 8023 chimeric alignments with less than 2 reads\n",
      "2024-03-28 12:58:17 INFO: imported 80338 nonchimeric reads (including  46 chained chimeric alignments) and 369 chimeric reads with coverage of at least 2.\n",
      "100%|██████████| 10805/10805 [01:10<00:00, 152.78genes/s]\n",
      "2024-03-28 12:59:28 INFO: adding new filter rule COVERED in transcript context\n",
      "2024-03-28 12:59:28 INFO: adding new filter rule HIGH_COVERED in transcript context\n",
      "2024-03-28 12:59:28 INFO: writing transcript table to ./PacBio_isotools_substantial_transcripts.csv\n",
      "100%|██████████| 10805/10805 [00:02<00:00, 4657.07genes/s]\n",
      "2024-03-28 12:59:31 INFO: writing gtf file to ./PacBio_isotools_substantial_transcripts.gtf\n",
      "100%|██████████| 10805/10805 [00:01<00:00, 5418.24genes/s]\n",
      "2024-03-28 12:59:33 INFO: saving transcripts as pickle file\n",
      "2024-03-28 12:59:33 INFO: saving transcriptome to ./PacBio_isotools_substantial_isotools.pkl\n"
     ]
    }
   ],
   "source": [
    "%%bash\n",
    "mkdir -p demonstration_dataset\n",
    "cd demonstration_dataset\n",
    "samples='encode_samples.tsv'\n",
    "anno='gencode.v42.chr_patch_hapl_scaff.annotation_sorted_chr8.gff3.gz'\n",
    "genome='GRCh38.p13.genome_chr8.fa'\n",
    "\n",
    "run_isotools \\\n",
    "    --anno $anno \\\n",
    "    --log INFO \\\n",
    "    --progress_bar \\\n",
    "    --genome $genome \\\n",
    "    --samples $samples \\\n",
    "    --file_prefix ./PacBio_isotools_substantial \\\n",
    "    --custom_filter_tag \"COVERED=any(g.coverage[:,trid] > 2)\"  \"HIGH_COVER=g.coverage.sum(0)[trid] >= 7\" \\\n",
    "    --filter_query \"(COVERED and FSM) or (HIGH_COVER and SUBSTANTIAL and not INTERNAL_PRIMING)\" \\\n",
    "    --gtf_out --transcript_table"
   ]
  },
  {
   "cell_type": "markdown",
   "metadata": {},
   "source": [
    "Running the command for the next time will automatically load the stored '.pkl' file. \n",
    "Here, we use the command line interface to perform differential splicing analysis.\n",
    "The resulting table with test statistics for all alternative splicing events is written to the file \n",
    "PacBio_isotools_substantial_diff_K562_GM12878.csv.\n",
    "In addidtion, the command creates sashimi coverage plots for the top 5 differentially spliced genes"
   ]
  },
  {
   "cell_type": "code",
   "execution_count": 10,
   "metadata": {},
   "outputs": [
    {
     "name": "stderr",
     "output_type": "stream",
     "text": [
      "2024-03-28 12:59:37 INFO: This is isotools version 0.3.4\n",
      "2024-03-28 12:59:37 INFO: loading transcriptome from ./PacBio_isotools_substantial_isotools.pkl\n",
      "2024-03-28 12:59:40 INFO: testing differential splicing for K562 (3) vs GM12878 (3) using betabinom_lr test\n",
      "100%|██████████| 10805/10805 [00:23<00:00, 460.12genes/s]\n",
      "2024-03-28 13:00:03 INFO: 175 differential splice sites in 111 genes for K562 vs GM12878\n",
      "2024-03-28 13:00:03 INFO: sashimi plot for differentially spliced gene RIPK2\n",
      "2024-03-28 13:00:05 INFO: sashimi plot for differentially spliced gene PVT1\n",
      "2024-03-28 13:00:13 INFO: sashimi plot for differentially spliced gene TUSC3\n",
      "2024-03-28 13:00:15 INFO: sashimi plot for differentially spliced gene NCALD\n",
      "2024-03-28 13:00:17 INFO: saving transcripts as pickle file\n",
      "2024-03-28 13:00:17 INFO: saving transcriptome to ./PacBio_isotools_substantial_isotools.pkl\n"
     ]
    }
   ],
   "source": [
    "%%bash\n",
    "cd demonstration_dataset\n",
    "run_isotools \\\n",
    "    --log INFO \\\n",
    "    --progress_bar \\\n",
    "    --file_prefix ./PacBio_isotools_substantial \\\n",
    "    --group_by group \\\n",
    "    --diff_plots 5 \\\n",
    "    --diff K562/GM12878"
   ]
  }
 ],
 "metadata": {
  "kernelspec": {
   "display_name": "iso",
   "language": "python",
   "name": "python3"
  },
  "language_info": {
   "codemirror_mode": {
    "name": "ipython",
    "version": 3
   },
   "file_extension": ".py",
   "mimetype": "text/x-python",
   "name": "python",
   "nbconvert_exporter": "python",
   "pygments_lexer": "ipython3",
   "version": "3.10.14"
  }
 },
 "nbformat": 4,
 "nbformat_minor": 4
}
