{
 "cells": [
  {
   "cell_type": "markdown",
   "metadata": {},
   "source": [
    "# Transcriptome Reconstruction\n",
    "This tutorial processes the example data set, based on PacBio Isoseq samples of hematopoetic cells from ENCODE. This dataset contains only a subset of genomic regions, allowing for fast processing of the demonstration tutorials. \n",
    "All required data files to run the tutorials can be obtained here: ([download link](https://oc-molgen.gnz.mpg.de/owncloud/s/gjG9EPiQwpRAyg3)). \n",
    "\n",
    "You will need:\n",
    "\n",
    "* sample description file 'encode_samples.tsv'\n",
    "* six .bam alignment files for the six samples\n",
    "* six corresponding .bam.bai indices\n",
    "* referernce annotation file gencode.v42.chr_patch_hapl_scaff.annotation_sorted_chr8.gff3.gz\n",
    "* corresponding .gff3.gz.tbi index file\n",
    "* genomic reference file GRCh38.p13.genome_chr8.fa\n",
    "* cooresponding .fai index file\n",
    "\n",
    "All files are assumed to be stored in a subfolder called 'demonstration_dataset'\n",
    "\n",
    "In this tutorial, we import the reference annotation, specify the alignment files for the samples, and integrate the data into a common data structure. During this step, the transcriptome is reconstructed, and quality control metrics are computed. \n"
   ]
  },
  {
   "cell_type": "code",
   "execution_count": 1,
   "metadata": {},
   "outputs": [
    {
     "name": "stderr",
     "output_type": "stream",
     "text": [
      "INFO:This is isootools version 0.3.2\n"
     ]
    }
   ],
   "source": [
    "# preperation: import the libraries\n",
    "from  isotools import Transcriptome\n",
    "from isotools import __version__ as isotools_version\n",
    "import pandas as pd\n",
    "import matplotlib.pyplot as plt\n",
    "import logging\n",
    "# set up logging\n",
    "logging.basicConfig(format='%(levelname)s:%(message)s', level=logging.INFO)\n",
    "logger=logging.getLogger('isotools')\n",
    "logger.info(f'This is isootools version {isotools_version}')\n",
    "\n",
    "\n",
    "path='demonstration_dataset'\n"
   ]
  },
  {
   "cell_type": "markdown",
   "metadata": {},
   "source": [
    "## Import of reference annotation\n",
    "The first step is to import the reference annotation from a gff or gtf file with the [Transcriptome.from_reference](../isotoolsAPI.html?highlight=from_reference#isotools.Transcriptome.from_reference) class method. The input file should be sorted and indexed with tabix. "
   ]
  },
  {
   "cell_type": "code",
   "execution_count": 2,
   "metadata": {},
   "outputs": [
    {
     "name": "stderr",
     "output_type": "stream",
     "text": [
      "INFO:importing reference from gff3 file demonstration_dataset/gencode.v42.chr_patch_hapl_scaff.annotation_sorted_chr8.gff3.gz\n",
      "100%|█████████▉| 2.82M/2.82M [00:02<00:00, 1.38MB/s]\n",
      "INFO:skipped the following categories: {'CDS', 'five_prime_UTR', 'three_prime_UTR'}\n",
      "WARNING:Missing genes! Found gene information in categories ['gene'] for 2540/5080 genes\n"
     ]
    }
   ],
   "source": [
    "annotation_fn=f'{path}/gencode.v42.chr_patch_hapl_scaff.annotation_sorted_chr8.gff3.gz'\n",
    "#create the IsoTools transcriptome object from the reference annotation\n",
    "isoseq=Transcriptome.from_reference(annotation_fn)\n"
   ]
  },
  {
   "cell_type": "markdown",
   "metadata": {},
   "source": [
    "## Import of sequencing data\n",
    "Next a sample table containing the sample names as well as corresponding file names and group assignment is imported.\n",
    "This information is used in the next step, to reconstruct the transcripts for each sample and integrate them with the transcriptome object, using the [add_sample_from_bam](../isotoolsAPI.html?highlight=add_sample_from_bam#isotools.Transcriptome.add_sample_from_bam) function.\n",
    "When all samples are added, quality control metrics are calculated by calling [Transcriptome.add_qc_metrics](../isotoolsAPI.html?highlight=add_qc_metrics#isotools.Transcriptome.add_qc_metrics).\n",
    "Last, the object with all data is stored on disk in a pickle file for later use with the [save](../isotoolsAPI.html?highlight=save#isotools.Transcriptome.save) method.\n",
    "In another session, the object can be restored with the classmethod [Transcriptome.load](../isotoolsAPI.html?highlight=load#isotools.Transcriptome.load)."
   ]
  },
  {
   "cell_type": "code",
   "execution_count": 3,
   "metadata": {},
   "outputs": [
    {
     "data": {
      "text/html": [
       "<div>\n",
       "<style scoped>\n",
       "    .dataframe tbody tr th:only-of-type {\n",
       "        vertical-align: middle;\n",
       "    }\n",
       "\n",
       "    .dataframe tbody tr th {\n",
       "        vertical-align: top;\n",
       "    }\n",
       "\n",
       "    .dataframe thead th {\n",
       "        text-align: right;\n",
       "    }\n",
       "</style>\n",
       "<table border=\"1\" class=\"dataframe\">\n",
       "  <thead>\n",
       "    <tr style=\"text-align: right;\">\n",
       "      <th></th>\n",
       "      <th>sample_name</th>\n",
       "      <th>file_name</th>\n",
       "      <th>group</th>\n",
       "    </tr>\n",
       "  </thead>\n",
       "  <tbody>\n",
       "    <tr>\n",
       "      <th>0</th>\n",
       "      <td>GM12878_a</td>\n",
       "      <td>demonstration_dataset/ENCFF417VHJ_aligned_mm2_...</td>\n",
       "      <td>GM12878</td>\n",
       "    </tr>\n",
       "    <tr>\n",
       "      <th>1</th>\n",
       "      <td>GM12878_b</td>\n",
       "      <td>demonstration_dataset/ENCFF450VAU_aligned_mm2_...</td>\n",
       "      <td>GM12878</td>\n",
       "    </tr>\n",
       "    <tr>\n",
       "      <th>2</th>\n",
       "      <td>GM12878_c</td>\n",
       "      <td>demonstration_dataset/ENCFF694DIE_aligned_mm2_...</td>\n",
       "      <td>GM12878</td>\n",
       "    </tr>\n",
       "    <tr>\n",
       "      <th>3</th>\n",
       "      <td>K562_a</td>\n",
       "      <td>demonstration_dataset/ENCFF429VVB_aligned_mm2_...</td>\n",
       "      <td>K562</td>\n",
       "    </tr>\n",
       "    <tr>\n",
       "      <th>4</th>\n",
       "      <td>K562_b</td>\n",
       "      <td>demonstration_dataset/ENCFF696GDL_aligned_mm2_...</td>\n",
       "      <td>K562</td>\n",
       "    </tr>\n",
       "    <tr>\n",
       "      <th>5</th>\n",
       "      <td>K562_c</td>\n",
       "      <td>demonstration_dataset/ENCFF634YSN_aligned_mm2_...</td>\n",
       "      <td>K562</td>\n",
       "    </tr>\n",
       "  </tbody>\n",
       "</table>\n",
       "</div>"
      ],
      "text/plain": [
       "  sample_name                                          file_name    group\n",
       "0   GM12878_a  demonstration_dataset/ENCFF417VHJ_aligned_mm2_...  GM12878\n",
       "1   GM12878_b  demonstration_dataset/ENCFF450VAU_aligned_mm2_...  GM12878\n",
       "2   GM12878_c  demonstration_dataset/ENCFF694DIE_aligned_mm2_...  GM12878\n",
       "3      K562_a  demonstration_dataset/ENCFF429VVB_aligned_mm2_...     K562\n",
       "4      K562_b  demonstration_dataset/ENCFF696GDL_aligned_mm2_...     K562\n",
       "5      K562_c  demonstration_dataset/ENCFF634YSN_aligned_mm2_...     K562"
      ]
     },
     "execution_count": 3,
     "metadata": {},
     "output_type": "execute_result"
    }
   ],
   "source": [
    "sample_fn=f'{path}/encode_samples.tsv'\n",
    "genome_fn=f'{path}/GRCh38.p13.genome_chr8.fa'\n",
    "\n",
    "samples=pd.read_csv(sample_fn, sep='\\t')\n",
    "samples.file_name=path+'/'+samples.file_name\n",
    "samples"
   ]
  },
  {
   "cell_type": "code",
   "execution_count": null,
   "metadata": {},
   "outputs": [
    {
     "name": "stderr",
     "output_type": "stream",
     "text": [
      "INFO:adding sample GM12878_a from file demonstration_dataset/ENCFF417VHJ_aligned_mm2_chr8.bam\n",
      "100%|██████████| 53.0k/53.0k [00:12<00:00, 4.14kreads/s, chr=KI270757.1]\n",
      "INFO:skipped 110 reads aligned fraction of less than 0.75.\n",
      "INFO:skipped 10972 secondary alignments (0x100), alignment that failed quality check (0x200) or PCR duplicates (0x400)\n",
      "WARNING:ignored 533 chimeric alignments with only one part aligned to specified chromosomes.\n",
      "INFO:ignoring 2231 chimeric alignments with less than 2 reads\n",
      "INFO:imported 40182 nonchimeric reads (including  14 chained chimeric alignments) and 73 chimeric reads with coverage of at least 2.\n",
      "INFO:adding sample GM12878_b from file demonstration_dataset/ENCFF450VAU_aligned_mm2_chr8.bam\n",
      "100%|██████████| 68.4k/68.4k [00:13<00:00, 5.01kreads/s, chr=KI270757.1]\n",
      "INFO:skipped 71 reads aligned fraction of less than 0.75.\n",
      "INFO:skipped 12700 secondary alignments (0x100), alignment that failed quality check (0x200) or PCR duplicates (0x400)\n",
      "WARNING:ignored 484 chimeric alignments with only one part aligned to specified chromosomes.\n",
      "INFO:ignoring 1273 chimeric alignments with less than 2 reads\n",
      "INFO:imported 54853 nonchimeric reads (including  12 chained chimeric alignments) and 7 chimeric reads with coverage of at least 2.\n",
      "INFO:adding sample GM12878_c from file demonstration_dataset/ENCFF694DIE_aligned_mm2_chr8.bam\n",
      "100%|██████████| 90.7k/90.7k [00:15<00:00, 5.76kreads/s, chr=KI270757.1]\n",
      "INFO:skipped 85 reads aligned fraction of less than 0.75.\n",
      "INFO:skipped 17261 secondary alignments (0x100), alignment that failed quality check (0x200) or PCR duplicates (0x400)\n",
      "WARNING:ignored 455 chimeric alignments with only one part aligned to specified chromosomes.\n",
      "INFO:ignoring 1410 chimeric alignments with less than 2 reads\n",
      "INFO:imported 72451 nonchimeric reads (including  38 chained chimeric alignments) and 12 chimeric reads with coverage of at least 2.\n",
      "INFO:adding sample K562_a from file demonstration_dataset/ENCFF429VVB_aligned_mm2_chr8.bam\n",
      "100%|██████████| 107k/107k [00:21<00:00, 4.98kreads/s, chr=KI270757.1]\n",
      "INFO:skipped 297 reads aligned fraction of less than 0.75.\n",
      "INFO:skipped 23990 secondary alignments (0x100), alignment that failed quality check (0x200) or PCR duplicates (0x400)\n",
      "WARNING:ignored 2160 chimeric alignments with only one part aligned to specified chromosomes.\n",
      "INFO:ignoring 7445 chimeric alignments with less than 2 reads\n",
      "INFO:imported 76692 nonchimeric reads (including  57 chained chimeric alignments) and 415 chimeric reads with coverage of at least 2.\n",
      "INFO:adding sample K562_b from file demonstration_dataset/ENCFF696GDL_aligned_mm2_chr8.bam\n",
      "100%|██████████| 78.0k/78.0k [00:16<00:00, 4.71kreads/s, chr=KI270757.1]\n",
      "INFO:skipped 165 reads aligned fraction of less than 0.75.\n",
      "INFO:skipped 15026 secondary alignments (0x100), alignment that failed quality check (0x200) or PCR duplicates (0x400)\n",
      "WARNING:ignored 1142 chimeric alignments with only one part aligned to specified chromosomes.\n",
      "INFO:ignoring 4530 chimeric alignments with less than 2 reads\n",
      "INFO:imported 59118 nonchimeric reads (including  43 chained chimeric alignments) and 284 chimeric reads with coverage of at least 2.\n",
      "INFO:adding sample K562_c from file demonstration_dataset/ENCFF634YSN_aligned_mm2_chr8.bam\n",
      " 61%|██████    | 70.7k/117k [00:12<00:08, 5.45kreads/s, chr=chr8]"
     ]
    }
   ],
   "source": [
    "# integrate the samples\n",
    "for i,row in samples.iterrows():\n",
    "    # this step takes about 5-30 seconds per sample\n",
    "     isoseq.add_sample_from_bam(row.file_name, sample_name=row.sample_name, group=row.group)\n",
    "# the sample table of the transcriptome object contains the number of imported reads\n",
    "isoseq.sample_table"
   ]
  },
  {
   "cell_type": "markdown",
   "metadata": {},
   "source": [
    "In the next step, we compute several qc metrics for the transcripts: \n",
    "\n",
    "* downstream A content, \n",
    "* direct repeat length at junctions, \n",
    "* noncanonical splicing, \n",
    "* potential fragments\n",
    "\n",
    "This information is stored with the genes objects, and can be accessed by downstream analysis. "
   ]
  },
  {
   "cell_type": "code",
   "execution_count": null,
   "metadata": {},
   "outputs": [],
   "source": [
    "# compute qc metrics\n",
    "isoseq.add_qc_metrics(genome_fn)"
   ]
  },
  {
   "cell_type": "markdown",
   "metadata": {},
   "source": [
    "## Transcriptome Export\n",
    "The identified transcrips can be exported in pickle format, GTF format, and as a table.\n",
    "* Pickle format is an interlal python format, used to save the entire transcriptome data, so it can be restored in an IsoTools session without reimporting the alignment files. Export to pickle is done with the [save](../isotoolsAPI.html?highlight=save#isotools.Transcriptome.save) methods\n",
    "* GTF (General Feature Format) is a file format commonly used in bioinformatics to represent annotated genomic features, such as gene models, exons, and introns. Exporting to this format is done with the [write_gtf](../isotoolsAPI.html?highlight=write_gtf#isotools.Transcriptome.write_gtf) method, and facilitates the use of the reconstructed transcriptome in several external tools. \n",
    "* The transcripts can also be exported as a table, containing coverage information, as well as additional features such as qc metrics, specified with the \"extra_columns\" parameter. The use of the [transcript_table](../isotoolsAPI.html?highlight=transcript_table#isotools.Transcriptome.transcript_table) methods is explained in the API documentation. \n",
    "\n",
    "\n",
    "To select the transcripts to be exported to GTF and the table, we used the isotools filtering query syntax, which is explained in detail in a [seperate tutorial](06_filtering.html#Filtering-tags-and-queries). \n",
    "The gtf can be compressed by adding a '.gz' to the filename and setting  gzip=True. \n",
    "The table can be set to contain samplewise and/or groupwise coverage information, by setting the sample and the groups parameters. Here we sum the read counts per group. \n"
   ]
  },
  {
   "cell_type": "code",
   "execution_count": null,
   "metadata": {},
   "outputs": [],
   "source": [
    "# export the transcriptome object for later use. \n",
    "isoseq.save('PacBio_isotools_substantial_isotools.pkl')\n",
    "# to load the data in the next session, use \n",
    "# isoseq=Transcriptome.load('PacBio_isotools_substantial_isotools.pkl')"
   ]
  },
  {
   "cell_type": "code",
   "execution_count": null,
   "metadata": {},
   "outputs": [],
   "source": [
    "# export gtf:\n",
    "isoseq.write_gtf(f'{path}/demonstration_dataset_substantial_transcripts.gtf', source='isoseq', min_coverage=5,  gzip=False, query='SUBSTANTIAL and not (NOVEL_TRANSCRIPT and UNSPLICED)')\n"
   ]
  },
  {
   "cell_type": "code",
   "execution_count": null,
   "metadata": {},
   "outputs": [],
   "source": [
    "\n",
    "# export transcript table with the same filter criteria:\n",
    "transcript_tab=isoseq.transcript_table( groups=isoseq.groups(),tpm=True,coverage=True,  min_coverage=5, progress_bar=True, query='SUBSTANTIAL and not (NOVEL_TRANSCRIPT and UNSPLICED)')\n",
    "# write to csv file\n",
    "transcript_tab.to_csv(f'{path}/demonstration_dataset_substantial_transcripts.csv', index=False, sep='\\t')\n",
    "#show the first lines\n",
    "transcript_tab.head()\n",
    "\n"
   ]
  },
  {
   "cell_type": "code",
   "execution_count": null,
   "metadata": {},
   "outputs": [],
   "source": []
  }
 ],
 "metadata": {
  "kernelspec": {
   "display_name": "Python 3 (ipykernel)",
   "language": "python",
   "name": "python3"
  },
  "language_info": {
   "codemirror_mode": {
    "name": "ipython",
    "version": 3
   },
   "file_extension": ".py",
   "mimetype": "text/x-python",
   "name": "python",
   "nbconvert_exporter": "python",
   "pygments_lexer": "ipython3",
   "version": "3.10.8"
  },
  "vscode": {
   "interpreter": {
    "hash": "31f2aee4e71d21fbe5cf8b01ff0e069b9275f58929596ceb00d14d90e3e16cd6"
   }
  }
 },
 "nbformat": 4,
 "nbformat_minor": 4
}
