{
 "cells": [
  {
   "cell_type": "markdown",
   "metadata": {},
   "source": [
    "# Transcriptome Import\n",
    "This tutorial demonstrates the import of a transcriptome from a transcript table and gtf file. The transcript table contains the read counts per sample and transcript, and the gtf file describes the transcript models, gene to transcript relationships and additional properties. Both files can be produced by IsoTools, but also by any other tool. \n",
    "This functionality is useful to integrate external tools for transcriptome reconstruction in IsoTools, or compare different tools for transcriptome reconstruction. Importantly, all transcript metadata information from the gtf file is imported and stored in the transcriptome method. \n",
    "The import functionality is implemented in the method [add_sample_from_csv](../isotoolsAPI.html?highlight=from_reference#isotools.Transcriptome.add_sample_from_csv) of the `isotools.Transcriptome` class.\n",
    "\n",
    "The transcriptome gtf should contain a transcript entry for each transcript with long read coverage, but may also contain additional transcripts for reference. The transcript table contains one row per transcript, with transcript id, and a column for each sample specifying the number of long reads. \n",
    "All additional tags from the gtf info field get imported, and can be used within isotools for subsequent analysis. \n",
    "All files used in the tutorial can be obtained here: ([download link](https://nc.molgen.mpg.de/cloud/index.php/s/zYe7g6qnyxGDxRd)). \n",
    "\n",
    "\n",
    "You will need:\n",
    "\n",
    "* reference annotation file (*.gff3.gz) and corresponding index file (.tbi)\n",
    "* genomic reference file genome.fa and corresponding .fai index file\n",
    "* gtf file with the long read transcripts (e.g. from external tool) \n",
    "* corresponding table with **number of long reads per transcripts** for the samples to be added. This is a csv file, with one column for each sample. The sample names are specified in the header (first line). Row names (first column) must correspond to transcript names from the gtf file.\n",
    "\n",
    "For demonstration, we use the gtf file and transcript table exported from isotools in the [previous tutorial](03_transcriptome_reconstruction.html). \n",
    "Note that in this table we exported not only the read counts, but also TPM values and further information on the transcripts. Therefore, we specify the suffix of the columns with the read counts.\n",
    "Remember that we exported the sum coverage, so instead of individual replicates, we are adding the pooled samples. \n",
    "Also we filtered the transcripts, hence only a subset of transcripts will be imported. \n",
    "All files are assumed to be stored in a subfolder called 'demonstration_dataset'.\n",
    "\n",
    "## Reference Gene and Transcript to Gene Assignment\n",
    "Transcript to gene assignment is either taken from the transcript_file, or recreated, as specified by the reconstruct_genes parameter. In the first case, the genes are matched to overlapping genes from the reference annotation by gene id. In absence of a overlapping gene with same id, the assignment falls back to \"recreate\". In that case, the gene is matched to existing genes by splice junction, and renamed accordingly. A map reflecting the the renaming is returned as a dictionary. Transcripts without matching existing gene constitute a new gene.\n",
    "\n"
   ]
  },
  {
   "cell_type": "code",
   "execution_count": 3,
   "metadata": {},
   "outputs": [
    {
     "name": "stderr",
     "output_type": "stream",
     "text": [
      "INFO:This is isotools version 0.3.4\n"
     ]
    }
   ],
   "source": [
    "# preparation: import the libraries\n",
    "from isotools import Transcriptome\n",
    "from isotools import __version__ as isotools_version\n",
    "import pandas as pd\n",
    "import matplotlib.pyplot as plt\n",
    "import logging\n",
    "# set up logging\n",
    "logging.basicConfig(format='%(levelname)s:%(message)s', level=logging.INFO)\n",
    "logger=logging.getLogger('isotools')\n",
    "logger.info(f'This is isotools version {isotools_version}')\n",
    "\n",
    "path='demonstration_dataset'\n"
   ]
  },
  {
   "cell_type": "code",
   "execution_count": 4,
   "metadata": {},
   "outputs": [
    {
     "name": "stderr",
     "output_type": "stream",
     "text": [
      "INFO:importing reference from gff3 file demonstration_dataset/gencode.v42.chr_patch_hapl_scaff.annotation_sorted_chr8.gff3.gz\n",
      "100%|█████████▉| 2.70M/2.70M [00:02<00:00, 1.23MB/s]\n",
      "INFO:skipped the following categories: {'three_prime_UTR', 'five_prime_UTR', 'CDS'}\n",
      "WARNING:Missing genes! Found gene information in categories ['gene'] for 2540/5080 genes\n",
      "INFO:adding samples \"GM12878_pooled\", \"K562_pooled\" from csv\n",
      "100%|██████████| 2609/2609 [00:09<00:00, 270.23genes/s]\n"
     ]
    },
    {
     "data": {
      "text/html": [
       "<div>\n",
       "<style scoped>\n",
       "    .dataframe tbody tr th:only-of-type {\n",
       "        vertical-align: middle;\n",
       "    }\n",
       "\n",
       "    .dataframe tbody tr th {\n",
       "        vertical-align: top;\n",
       "    }\n",
       "\n",
       "    .dataframe thead th {\n",
       "        text-align: right;\n",
       "    }\n",
       "</style>\n",
       "<table border=\"1\" class=\"dataframe\">\n",
       "  <thead>\n",
       "    <tr style=\"text-align: right;\">\n",
       "      <th></th>\n",
       "      <th>name</th>\n",
       "      <th>file</th>\n",
       "      <th>group</th>\n",
       "      <th>nonchimeric_reads</th>\n",
       "      <th>chimeric_reads</th>\n",
       "    </tr>\n",
       "  </thead>\n",
       "  <tbody>\n",
       "    <tr>\n",
       "      <th>0</th>\n",
       "      <td>GM12878_pooled</td>\n",
       "      <td>demonstration_dataset/demonstration_dataset_su...</td>\n",
       "      <td>GM12878_pooled</td>\n",
       "      <td>125956</td>\n",
       "      <td>0</td>\n",
       "    </tr>\n",
       "    <tr>\n",
       "      <th>0</th>\n",
       "      <td>K562_pooled</td>\n",
       "      <td>demonstration_dataset/demonstration_dataset_su...</td>\n",
       "      <td>K562_pooled</td>\n",
       "      <td>143973</td>\n",
       "      <td>0</td>\n",
       "    </tr>\n",
       "  </tbody>\n",
       "</table>\n",
       "</div>"
      ],
      "text/plain": [
       "             name                                               file  \\\n",
       "0  GM12878_pooled  demonstration_dataset/demonstration_dataset_su...   \n",
       "0     K562_pooled  demonstration_dataset/demonstration_dataset_su...   \n",
       "\n",
       "            group nonchimeric_reads chimeric_reads  \n",
       "0  GM12878_pooled            125956              0  \n",
       "0     K562_pooled            143973              0  "
      ]
     },
     "execution_count": 4,
     "metadata": {},
     "output_type": "execute_result"
    }
   ],
   "source": [
    "annotation_fn=f'{path}/gencode.v42.chr_patch_hapl_scaff.annotation_sorted_chr8.gff3.gz'\n",
    "# create the IsoTools transcriptome object from the reference annotation\n",
    "isoseq=Transcriptome.from_reference(annotation_fn)\n",
    "\n",
    "#specify the columns with the read counts per transcript\n",
    "read_count_cols={'GM12878_pooled':'GM12878_sum_coverage','K562_pooled':'K562_sum_coverage'}\n",
    "\n",
    "# add the transcripts from the gtf file\n",
    "id_map=isoseq.add_sample_from_csv(\n",
    "    f'{path}/demonstration_dataset_substantial_transcripts.csv',\n",
    "    transcripts_file=f'{path}/demonstration_dataset_substantial_transcripts.gtf.gz',\n",
    "    sample_cov_cols=read_count_cols,\n",
    "    reconstruct_genes=False\n",
    ")\n",
    "# now we want to add qc metrics\n",
    "genome_fn=f'{path}/GRCh38.p13.genome_chr8.fa'\n",
    "isoseq.add_qc_metrics(genome_fn)\n",
    "\n",
    "isoseq.sample_table"
   ]
  }
 ],
 "metadata": {
  "kernelspec": {
   "display_name": "Python 3 (ipykernel)",
   "language": "python",
   "name": "python3"
  },
  "language_info": {
   "codemirror_mode": {
    "name": "ipython",
    "version": 3
   },
   "file_extension": ".py",
   "mimetype": "text/x-python",
   "name": "python",
   "nbconvert_exporter": "python",
   "pygments_lexer": "ipython3",
   "version": "3.10.14"
  },
  "vscode": {
   "interpreter": {
    "hash": "31f2aee4e71d21fbe5cf8b01ff0e069b9275f58929596ceb00d14d90e3e16cd6"
   }
  }
 },
 "nbformat": 4,
 "nbformat_minor": 4
}
