{
 "cells": [
  {
   "cell_type": "markdown",
   "metadata": {},
   "source": [
    "# Quality control and sequencing artifacts\n",
    "\n",
    "A large fraction of the initial isoforms likely originate from technical artifacts, and thus require filtering on minimal coverage and other quality metrics. Based on quality metrics (and other properties), transcripts can get tagged e.g. to indicate potential biases.\n",
    "The default definition of these tags are:\n",
    "\n",
    "* Internal priming: \n",
    "    * Unspliced and \n",
    "    * downstream adenosine content >50%\n",
    "* Reverse Transcriptase Template Switching (RTTS):\n",
    "    * noncanonical splicing with both splice sites not in reference\n",
    "* Fragments\n",
    "    * transcripts contained in other transcripts, with no TSS/PAS overlap from the reference annotation\n",
    "\n",
    "We will quantify these artifacts using [filter_stats](../isotoolsAPI.html?highlight=filter_stats#isotools.Transcriptome.filter_stats), which returns a table with the number of reads affected per sample or group of samples.\n",
    "The fraction of affected reads can be visualized as bars, plot using [plot_bar](../isotoolsAPI.html?highlight=plot_bar#isotools.plots.plot_bar) function.\n",
    "This tutorial assumes you have downloaded the prepared transcriptome pkl file *\"PacBio_isotools_substantial_isotools.pkl\"* from the [demonstration data set](https://nc.molgen.mpg.de/cloud/index.php/s/zYe7g6qnyxGDxRd)."
   ]
  },
  {
   "cell_type": "code",
   "execution_count": 1,
   "metadata": {},
   "outputs": [],
   "source": [
    "from isotools import Transcriptome\n",
    "import matplotlib.pyplot as plt\n",
    "\n",
    "path='demonstration_dataset'\n",
    "isoseq=Transcriptome.load(f'{path}/PacBio_isotools_substantial_isotools.pkl')"
   ]
  },
  {
   "cell_type": "code",
   "execution_count": 2,
   "metadata": {},
   "outputs": [
    {
     "name": "stdout",
     "output_type": "stream",
     "text": [
      "INTERNAL_PRIMING: len(exons)==1 and downstream_A_content and downstream_A_content>.5\n",
      "FRAGMENT: fragments and any(\"novel exonic \" in a or \"fragment\" in a for a in annotation[1])\n",
      "RTTS: noncanonical_splicing is not None and novel_splice_sites is not None and         any(2*i in novel_splice_sites and 2*i+1 in novel_splice_sites for i,_ in noncanonical_splicing)\n"
     ]
    }
   ],
   "source": [
    "for tag in ['INTERNAL_PRIMING','FRAGMENT','RTTS']:\n",
    "    print(f'{tag}: {isoseq.filter[\"transcript\"][tag]}')"
   ]
  },
  {
   "cell_type": "code",
   "execution_count": 3,
   "metadata": {},
   "outputs": [],
   "source": [
    "#statistic on the filter flags\n",
    "f_stats_groups=isoseq.filter_stats(\n",
    "    tags=['RTTS','FRAGMENT','INTERNAL_PRIMING'], \n",
    "    groups=isoseq.groups(), \n",
    "    weight_by_coverage=True,\n",
    "    min_coverage=2)\n",
    "\n",
    "f_stats_samples=isoseq.filter_stats(\n",
    "    tags=['RTTS','FRAGMENT','INTERNAL_PRIMING'],  \n",
    "    weight_by_coverage=True,\n",
    "    min_coverage=2)\n",
    "\n"
   ]
  },
  {
   "cell_type": "code",
   "execution_count": null,
   "metadata": {},
   "outputs": [
    {
     "data": {
      "text/plain": [
       "<AxesSubplot: title={'center': 'Expressed Transcripts > 2 reads'}, ylabel='fraction of reads'>"
      ]
     },
     "execution_count": 4,
     "metadata": {},
     "output_type": "execute_result"
    }
   ],
   "source": [
    "from isotools.plots import plot_bar\n",
    "\n",
    "plt.rcParams[\"figure.figsize\"] = (15,5)\n",
    "plt.rcParams.update({'font.size': 14})\n",
    "\n",
    "fig, axs = plt.subplots(1,2)\n",
    "\n",
    "# groupwise statistics\n",
    "plot_bar(f_stats_groups[0], ax=axs[0], drop_categories=['PASS'], bar_width=.9,\n",
    "         legend=True, **f_stats_groups[1])\n",
    "\n",
    "# sample wise statistics\n",
    "plot_bar(f_stats_samples[0], ax=axs[1], drop_categories=['PASS'], bar_width=.9,\n",
    "         legend=True, **f_stats_samples[1])\n"
   ]
  }
 ],
 "metadata": {
  "kernelspec": {
   "display_name": "Python 3 (ipykernel)",
   "language": "python",
   "name": "python3"
  },
  "language_info": {
   "codemirror_mode": {
    "name": "ipython",
    "version": 3
   },
   "file_extension": ".py",
   "mimetype": "text/x-python",
   "name": "python",
   "nbconvert_exporter": "python",
   "pygments_lexer": "ipython3",
   "version": "3.10.8"
  }
 },
 "nbformat": 4,
 "nbformat_minor": 4
}
