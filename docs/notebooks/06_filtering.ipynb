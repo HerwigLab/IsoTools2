{
 "cells": [
  {
   "cell_type": "markdown",
   "metadata": {},
   "source": [
    "## Data access and Filtering\n",
    "Genes can be accessed by gene_name/gene_id.\n",
    "Further, we can iterate over genes/ transcripts, and filter them by their properties, genomic location or coverage. \n",
    "To this end, IsoTools implements a query syntax based on tags, which are defined by expressions.\n",
    "\n",
    "\n",
    "This tutorial depends on the transcriptome file PacBio_isotools_substantial_isotools.pkl, which can be obtained with this [download link](https://oc-molgen.gnz.mpg.de/owncloud/s/gjG9EPiQwpRAyg3)"
   ]
  },
  {
   "cell_type": "code",
   "execution_count": 1,
   "metadata": {},
   "outputs": [],
   "source": [
    "from isotools import Transcriptome\n",
    "import matplotlib.pyplot as plt\n",
    "\n",
    "path='demonstration_dataset'\n",
    "isoseq=Transcriptome.load(f'{path}/PacBio_isotools_substantial_isotools.pkl')"
   ]
  },
  {
   "cell_type": "code",
   "execution_count": 2,
   "metadata": {},
   "outputs": [
    {
     "name": "stdout",
     "output_type": "stream",
     "text": [
      "Gene RIPK2 chr8:89757805-89791064(+), 4 reference transcripts, 52 expressed transcripts\n"
     ]
    }
   ],
   "source": [
    "g=isoseq['RIPK2']\n",
    "print(g)"
   ]
  },
  {
   "cell_type": "code",
   "execution_count": 3,
   "metadata": {},
   "outputs": [
    {
     "name": "stdout",
     "output_type": "stream",
     "text": [
      "ENSG00000253853 3: {'novel exon': [[2799587, 2799883]]}\n",
      "ZHX1-C8orf76 1: {'readthrough fusion': [('C8orf76', array([0, 1]))], 'novel exon': [[123231299, 123231757]]}\n",
      "ENSG00000253666 9: {'novel intronic TSS': [[100445517, 100445578]], 'novel exon': [[100446307, 100446368], [100451990, 100452300], [100456176, 100456279]]}\n",
      "GPAT4 10: {'novel exon': [[41596747, 41596878]]}\n",
      "TPD52 10: {'novel exon': [[80109827, 80109935]]}\n",
      "CHMP7 34: {'readthrough fusion': [('TNFRSF10A-DT', array([0, 1, 2]))], 'novel exon': [[23246255, 23246994]]}\n",
      "SLC25A32 2: {'novel exon': [[103413422, 103413531]]}\n",
      "CA8 32: {'novel exon': [[60222307, 60222357]]}\n",
      "SLC39A14 3: {'novel exon': [[22390729, 22390847]]}\n"
     ]
    }
   ],
   "source": [
    "for gene, tr_id, tr in isoseq.iter_transcripts(query='SUBSTANTIAL and NOVEL_EXON and not (RTTS or INTERNAL_PRIMING)', min_coverage=10):\n",
    "    print(f'{gene.name} {tr_id}: {tr[\"annotation\"][1]}')"
   ]
  },
  {
   "cell_type": "code",
   "execution_count": 4,
   "metadata": {},
   "outputs": [
    {
     "name": "stdout",
     "output_type": "stream",
     "text": [
      "* gene: NOVEL_GENE, EXPRESSED, CHIMERIC\n",
      "* transcript: INTERNAL_PRIMING, RTTS, NONCANONICAL_SPLICING, NOVEL_TRANSCRIPT, FRAGMENT, UNSPLICED, MULTIEXON, SUBSTANTIAL, ANTISENSE, INTERGENIC, GENIC_GENOMIC, NOVEL_EXONIC_PAS, NOVEL_INTRONIC_PAS, READTHROUGH_FUSION, NOVEL_EXON, NOVEL_3_SPLICE_SITE, INTRON_RETENTION, NOVEL_5_SPLICE_SITE, EXON_SKIPPING, NOVEL_COMBINATION, NOVEL_INTRONIC_TSS, NOVEL_EXONIC_TSS, MONO_EXON, NOVEL_JUNCTION, _5_FRAGMENT, _3_FRAGMENT, INTRONIC, FSM, ISM, NIC, NNC, NOVEL, COVERED, HIGH_COVERED\n",
      "* reference: REF_UNSPLICED, REF_MULTIEXON, REF_INTERNAL_PRIMING\n"
     ]
    }
   ],
   "source": [
    "#these filter tags are predefined\n",
    "for context in isoseq.filter:\n",
    "    print(f'* {context}: {\", \".join(list(isoseq.filter[context]))}')\n",
    "    "
   ]
  },
  {
   "cell_type": "code",
   "execution_count": null,
   "metadata": {},
   "outputs": [],
   "source": []
  }
 ],
 "metadata": {
  "kernelspec": {
   "display_name": "python3.9",
   "language": "python",
   "name": "python3.9"
  },
  "language_info": {
   "codemirror_mode": {
    "name": "ipython",
    "version": 3
   },
   "file_extension": ".py",
   "mimetype": "text/x-python",
   "name": "python",
   "nbconvert_exporter": "python",
   "pygments_lexer": "ipython3",
   "version": "3.9.7"
  }
 },
 "nbformat": 4,
 "nbformat_minor": 4
}
