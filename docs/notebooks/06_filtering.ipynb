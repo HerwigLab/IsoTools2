{
 "cells": [
  {
   "cell_type": "markdown",
   "metadata": {},
   "source": [
    "# Data access and Filtering\n",
    "\n",
    "Transcript filtering is a crucial step in long-read transcriptome sequencing analysis, to remove low-quality transcripts and retain high-quality transcripts for downstream analysis. IsoTools implements transcript filtering as a flexible query syntax, based on logical combinations of named \"tags\", by convention, a single word in capital letters. These tags are defined Python expressions, which are evaluated in the context of the transcript dictionary, so it may depend on all metrics and properties of the transcript. IsoTools provides predefined tags, covering technical artifacts, but also the novelty categories, and properties of the reference annotation. Additionally, users can define custom tags to tailor filtering to their specific needs.\n",
    "To apply these filters, tags are combined in query strings, which can be used in iterator functions or export functions, to select the desired transcripts. Importantly, filtering does not modify the original data; rather, it is only applied when specifying the query string.\n",
    "\n",
    "In this tutorial, we will learn to\n",
    "\n",
    "* access genes by gene_name/gene_id.\n",
    "* iterate over genes/ transcripts, and filter them by their properties, genomic location or coverage. \n",
    "* use IsoTools query syntax to filter genes and transcripts. \n",
    "* define custom tags and filter expressions, to tailor filter queries.\n",
    "\n",
    "\n",
    "This tutorial assumes you have run the tutorial on [transcriptome reconstruction](03_transcriptome_reconstruction.html) already, and prepared the transcriptome pkl file \"PacBio_isotools.pkl\" based on the [demonstration data set](https://nc.molgen.mpg.de/cloud/index.php/s/zYe7g6qnyxGDxRd)."
   ]
  },
  {
   "cell_type": "code",
   "execution_count": 13,
   "metadata": {},
   "outputs": [],
   "source": [
    "from isotools import Transcriptome\n",
    "import matplotlib.pyplot as plt\n",
    "import numpy as np\n",
    "import pandas as pd\n",
    "\n",
    "path='demonstration_dataset'\n",
    "isoseq=Transcriptome.load(f'{path}/PacBio_isotools.pkl')"
   ]
  },
  {
   "cell_type": "markdown",
   "metadata": {},
   "source": [
    "## Access genes by name or id\n",
    "[Gene objects](../isotoolsAPI.html?highlight=isotools.Gene#isotools-gene) can be retrieved from the transcriptome object using the square bracket operator. This works with both the gene name and gene id. The gene object contains all information of the gene, like the coverage and the list of transcripts, which in turn contain the list of exons, comparison with reference annotation and much more. "
   ]
  },
  {
   "cell_type": "code",
   "execution_count": 14,
   "metadata": {},
   "outputs": [
    {
     "name": "stdout",
     "output_type": "stream",
     "text": [
      "found the same gene by name and id\n",
      "Gene RIPK2 chr8:89757805-89791064(+), 4 reference transcripts, 46 expressed transcripts\n",
      "920 reads in total\n"
     ]
    }
   ],
   "source": [
    "g=isoseq['ENSG00000104312.8']\n",
    "if g==isoseq['RIPK2']:\n",
    "    print('found the same gene by name and id')\n",
    "\n",
    "#string representation\n",
    "print(g)\n",
    "# obtain the sum coverage over all transcripts and samples\n",
    "total_cov=g.coverage.sum()\n",
    "print(f\"{total_cov} reads in total\")"
   ]
  },
  {
   "cell_type": "code",
   "execution_count": 15,
   "metadata": {},
   "outputs": [
    {
     "name": "stdout",
     "output_type": "stream",
     "text": [
      "7 transcripts contribute at least 1% to that gene\n"
     ]
    }
   ],
   "source": [
    "#This gene has 52 expressed transcripts, only 4 of them are in the reference.\n",
    "#However, most are supported by few reads only\n",
    "n_tr = sum([cov>total_cov *.01 for cov in g.coverage.sum(0)])\n",
    "print(f'{n_tr} transcripts contribute at least 1% to that gene')\n"
   ]
  },
  {
   "cell_type": "code",
   "execution_count": 16,
   "metadata": {},
   "outputs": [
    {
     "name": "stdout",
     "output_type": "stream",
     "text": [
      "The primary transcript is number 2.\n",
      "This transcript contributes 40.87%  (376/920 reads)\n"
     ]
    }
   ],
   "source": [
    "#lets look at the primary transcript\n",
    "max_i=np.argmax(g.coverage.sum(0))\n",
    "max_contr=g.coverage.sum(0)[max_i]\n",
    "print(f'''The primary transcript is number {max_i}.\n",
    "This transcript contributes {max_contr/total_cov:.2%}  ({max_contr}/{total_cov} reads)''')\n"
   ]
  },
  {
   "cell_type": "code",
   "execution_count": 17,
   "metadata": {},
   "outputs": [
    {
     "name": "stdout",
     "output_type": "stream",
     "text": [
      "\n",
      "These are the infos for this transcript:\n",
      "exons: [[89757791, 89758233], [89762828, 89762982], [89765340, 89765496], [89769771, 89769929], [89771740, ...\n",
      "strand: +\n",
      "coverage: {'GM12878_a': 48, 'GM12878_b': 137, 'GM12878_c': 141, 'K562_a': 18, 'K562_b': 19, 'K562_c': 13}\n",
      "TSS: {'GM12878_a': {89757763: 1, 89757766: 1, 89757778: 1, 89757782: 3, 89757783: 4, 89757784: 4, 8975778...\n",
      "PAS: {'GM12878_a': {89790462: 3, 89791057: 3, 89790608: 5, 89790939: 3, 89790606: 3, 89790425: 1, 8979046...\n",
      "annotation: (0, {'FSM': [1]})\n",
      "TSS_unified: {'GM12878_a': {89757791: 48}, 'GM12878_b': {89757791: 137}, 'GM12878_c': {89757791: 141}, 'K562_a': ...\n",
      "PAS_unified: {'GM12878_a': {89790462: 20, 89790982: 10, 89790605: 11, 89790939: 3, 89790524: 4}, 'GM12878_b': {89...\n",
      "direct_repeat_len: [3, 3, 4, 5, 7, 3, 5, 4, 6, 4]\n",
      "downstream_A_content: 0.2\n",
      "ORF: (89758060, 89790416, {\"5'UTR\": 269, 'CDS': 1623, \"3'UTR\": 46, 'start_codon': 'ATG', 'stop_codon': 'T...\n"
     ]
    }
   ],
   "source": [
    "#all the information for this transcript are stored in this dict:\n",
    "primary=g.transcripts[max_i]\n",
    "print(f'\\nThese are the infos for this transcript:')\n",
    "for k,v in primary.items():\n",
    "    print(f'{k}: {str(v)[:100]}{\"...\" if len(str(v))>100 else \"\"}')\n",
    "\n"
   ]
  },
  {
   "cell_type": "code",
   "execution_count": 18,
   "metadata": {},
   "outputs": [
    {
     "name": "stdout",
     "output_type": "stream",
     "text": [
      "\n",
      "The corresponding reference transcript: \n",
      "transcript_id: ENST00000220751.5\n",
      "transcript_type: protein_coding\n",
      "transcript_name: RIPK2-201\n",
      "transcript_support_level: 1\n",
      "exons: [(89757815, 89758233), (89762828, 89762982), (89765340, 89765496), (89769771, 89769929), (89771740, ...\n",
      "CDS: (89758060, 89790416)\n",
      "downstream_A_content: 0.06666666666666667\n",
      "ORF: (89758060, 89790416, {\"5'UTR\": 245, 'CDS': 1623, \"3'UTR\": 648, 'start_codon': 'ATG', 'stop_codon': '...\n"
     ]
    }
   ],
   "source": [
    "\n",
    "# this 'annotation' line reveals that it is a FSM with reference transcript nr 1:\n",
    "# annotation: (0, {'FSM': [1]})\n",
    "\n",
    "print(f'\\nThe corresponding reference transcript: ')\n",
    "for k,v in g.ref_transcripts[primary[\"annotation\"][1][\"FSM\"][0]].items():\n",
    "    print(f'{k}: {str(v)[:100]}{\"...\" if len(str(v))>100 else \"\"}')"
   ]
  },
  {
   "cell_type": "markdown",
   "metadata": {},
   "source": [
    "## Iterating genes and transcripts\n",
    "To iterate genes and transcripts, the transcriptome object provides the methods [iter_transcripts](../isotoolsAPI.html?highlight=iter_transcripts#isotools.Transcriptome.iter_transcripts) and [iter_genes](../isotoolsAPI.html?highlight=iter_genes#isotools.Transcriptome.iter_genes). Both have the option to filter by genomic region or coverage, and with queries. The gene iterator yields the gene objects, while the transcript iterator method yields a 3 tuple with gene, transcript index, and a dictionary with the transcript properties."
   ]
  },
  {
   "cell_type": "code",
   "execution_count": 19,
   "metadata": {},
   "outputs": [
    {
     "name": "stdout",
     "output_type": "stream",
     "text": [
      "Gene OSGIN2 chr8:89901848-89927888(+), 4 reference transcripts, 47 expressed transcripts\n",
      "\t573 reads\n",
      "Gene RIPK2 chr8:89757805-89791064(+), 4 reference transcripts, 46 expressed transcripts\n",
      "\t920 reads\n",
      "Gene NBN chr8:89924514-90003228(-), 38 reference transcripts, 294 expressed transcripts\n",
      "\t2259 reads\n"
     ]
    }
   ],
   "source": [
    "for g in isoseq.iter_genes(region='chr8:89000000-90000000', min_coverage=100):\n",
    "    print(g)\n",
    "    print(f'\\t{g.coverage.sum()} reads')"
   ]
  },
  {
   "cell_type": "markdown",
   "metadata": {},
   "source": [
    "## Filtering tags and queries\n",
    "IsoTools allows to filter genes and transcripts based on **TAGS** (single word in ALLCAPS).\n",
    "\n",
    "Each TAG is defined by a corresponding **expression**, that gets evaluated on the properties of the gene or transcript.\n",
    "\n",
    "A TAG is defined in a specific **context**, either gene, transcript, or reference transcript context, in which the expression gets evaluated. Expressions in gene context depend on properties of the gene, while in transcript context, the properties of the transcript are relevant. \n",
    "\n",
    "We already used tags in the previous tutorial, for the definition of the sequencing artifacts.'INTERNAL_PRIMING', 'FRAGMENT', 'RTTS' all have corresponding expressions, that define them. For example, the expression for INTERNAL_PRIMING tag is 'len(exons)==1 and downstream_A_content and downstream_A_content>.5', e.g. it selects (e.g. returns True) mono exon genes with more than 50% A downstream of the transcript. \n",
    "\n",
    "\n",
    "As additional examples, we print the default definitions for all defined tags."
   ]
  },
  {
   "cell_type": "code",
   "execution_count": 20,
   "metadata": {},
   "outputs": [
    {
     "name": "stdout",
     "output_type": "stream",
     "text": [
      "\n",
      "gene\n",
      "====\n",
      "- NOVEL_GENE:\tnot reference\n",
      "- EXPRESSED:\ttranscripts\n",
      "- CHIMERIC:\tchimeric\n",
      "\n",
      "transcript\n",
      "==========\n",
      "- INTERNAL_PRIMING:\tlen(exons)==1 and downstream_A_content and downstream_A_content>.5\n",
      "- RTTS:\tnoncanonical_splicing is not None and novel_splice_sites is not None and         any(2*i in novel_splice_sites and 2*i+1 in novel_splice_sites for i,_ in noncanonical_splicing)\n",
      "- NONCANONICAL_SPLICING:\tnoncanonical_splicing\n",
      "- NOVEL_TRANSCRIPT:\tannotation[0]>0\n",
      "- FRAGMENT:\tfragments and any(\"novel exonic \" in a or \"fragment\" in a for a in annotation[1])\n",
      "- UNSPLICED:\tlen(exons)==1\n",
      "- MULTIEXON:\tlen(exons)>1\n",
      "- SUBSTANTIAL:\tg.coverage.sum() * .01 < g.coverage[:,trid].sum()\n",
      "- ANTISENSE:\t\"antisense\" in annotation[1]\n",
      "- INTERGENIC:\t\"intergenic\" in annotation[1]\n",
      "- GENIC_GENOMIC:\t\"genic genomic\" in annotation[1]\n",
      "- NOVEL_EXONIC_PAS:\t\"novel exonic PAS\" in annotation[1]\n",
      "- NOVEL_INTRONIC_PAS:\t\"novel intronic PAS\" in annotation[1]\n",
      "- READTHROUGH_FUSION:\t\"readthrough fusion\" in annotation[1]\n",
      "- NOVEL_EXON:\t\"novel exon\" in annotation[1]\n",
      "- NOVEL_3_SPLICE_SITE:\t\"novel 3' splice site\" in annotation[1]\n",
      "- INTRON_RETENTION:\t\"intron retention\" in annotation[1]\n",
      "- NOVEL_5_SPLICE_SITE:\t\"novel 5' splice site\" in annotation[1]\n",
      "- EXON_SKIPPING:\t\"exon skipping\" in annotation[1]\n",
      "- NOVEL_COMBINATION:\t\"novel combination\" in annotation[1]\n",
      "- NOVEL_INTRONIC_TSS:\t\"novel intronic TSS\" in annotation[1]\n",
      "- NOVEL_EXONIC_TSS:\t\"novel exonic TSS\" in annotation[1]\n",
      "- MONO_EXON:\t\"mono-exon\" in annotation[1]\n",
      "- NOVEL_JUNCTION:\t\"novel junction\" in annotation[1]\n",
      "- _5_FRAGMENT:\t\"5' fragment\" in annotation[1]\n",
      "- _3_FRAGMENT:\t\"3' fragment\" in annotation[1]\n",
      "- INTRONIC:\t\"intronic\" in annotation[1]\n",
      "- FSM:\tannotation[0]==0\n",
      "- ISM:\tannotation[0]==1\n",
      "- NIC:\tannotation[0]==2\n",
      "- NNC:\tannotation[0]==3\n",
      "- NOVEL:\tannotation[0]==4\n",
      "\n",
      "reference\n",
      "=========\n",
      "- REF_UNSPLICED:\tlen(exons)==1\n",
      "- REF_MULTIEXON:\tlen(exons)>1\n",
      "- REF_INTERNAL_PRIMING:\tdownstream_A_content>.5\n"
     ]
    }
   ],
   "source": [
    "\n",
    "#print all defined filter expressions\n",
    "for context in isoseq.filter:\n",
    "    print(f'\\n{context}\\n{\"=\"*len(context)}')\n",
    "    for tag,expression in isoseq.filter[context].items():\n",
    "        print(f'- {tag}:\\t{expression}')\n"
   ]
  },
  {
   "cell_type": "markdown",
   "metadata": {},
   "source": [
    "## Custom Tags\n",
    "Users can modify existing criteria, for example to adjust thresholds, or define additional criteria, based on custom properties, with the [add_filter](../isotoolsAPI.html?highlight=add_filter#isotools.Transcriptome.add_filter) method. \n",
    "\n",
    "The following example shows how the user can define additional flags, in this case \"HIGH_SUPPORT\" and \"PROTEIN_CODING\" for the reference transcripts, which is based on the GENCODE annotation information on \"transcript_support_level\" and \"transcript_type\". Note that these custom filter tags, like all filter tags, get only applied when used in a filter query. \n"
   ]
  },
  {
   "cell_type": "code",
   "execution_count": 21,
   "metadata": {},
   "outputs": [],
   "source": [
    "#add /modify custom filter\n",
    "\n",
    "isoseq.add_filter(tag = \"HIGH_SUPPORT\",\n",
    "                  expression = 'transcript_support_level==\"1\"',\n",
    "                  context = 'reference')\n",
    "isoseq.add_filter(tag = \"PROTEIN_CODING\",\n",
    "                  expression = 'transcript_type==\"protein_coding\"',\n",
    "                  context = 'reference')\n"
   ]
  },
  {
   "cell_type": "markdown",
   "metadata": {},
   "source": [
    "## Constructing Filter Queries\n",
    "### Analyse Genes of Interest\n",
    "The tags can be combined to boolean expressions, to query transcripts of interest. For example, to find novel exon skipping events, that contribute substantially to the genes total expression, the query would be: **\"EXON_SKIPPING and SUBSTANTIAL\"**."
   ]
  },
  {
   "cell_type": "code",
   "execution_count": 22,
   "metadata": {},
   "outputs": [
    {
     "name": "stdout",
     "output_type": "stream",
     "text": [
      "Transcript nr 1 of \"Gene SLC20A2 chr8:42416474-42541926(-), 14 reference transcripts, 53 expressed transcripts\" with a coverage of 50\n",
      "  -> [[42480458, 42480513]]\n",
      "Transcript nr 4 of \"Gene ARMC1 chr8:65602457-65634217(-), 6 reference transcripts, 57 expressed transcripts\" with a coverage of 51\n",
      "  -> [[65605421, 65605538]]\n"
     ]
    },
    {
     "name": "stdout",
     "output_type": "stream",
     "text": [
      "Transcript nr 3 of \"Gene ZNF7 chr8:144827517-144847509(+), 18 reference transcripts, 86 expressed transcripts\" with a coverage of 52\n",
      "  -> [[144828007, 144828053], [144828728, 144828950], [144829042, 144829604], [144830930, 144831029]]\n",
      "Transcript nr 0 of \"Gene CIBAR1 chr8:93698560-93731527(+), 18 reference transcripts, 30 expressed transcripts\" with a coverage of 296\n",
      "  -> [[93707201, 93707281], [93708010, 93708016]]\n",
      "Transcript nr 7 of \"Gene RIPK2 chr8:89757805-89791064(+), 4 reference transcripts, 46 expressed transcripts\" with a coverage of 117\n",
      "  -> [[89784049, 89784139]]\n",
      "Transcript nr 12 of \"Gene RIPK2 chr8:89757805-89791064(+), 4 reference transcripts, 46 expressed transcripts\" with a coverage of 126\n",
      "  -> [[89784049, 89784139]]\n"
     ]
    }
   ],
   "source": [
    "for g,trnr,tr in isoseq.iter_transcripts( query='EXON_SKIPPING and SUBSTANTIAL',\n",
    "                                          min_coverage=50 ):\n",
    "    print(f'Transcript nr {trnr} of \"{g}\" with a coverage of {g.coverage.sum(0)[trnr]}')\n",
    "    print(f\"  -> {tr['annotation'][1]['exon skipping']}\")\n"
   ]
  },
  {
   "cell_type": "markdown",
   "metadata": {},
   "source": [
    "### Filter Queries for transcript export\n",
    "One of the primary tasks for filtering is the selection of high confidence transcripts, to export for downstream analysis. Depending on the requirements of this analysis, the filtering may be more permissive, or stricter. \n",
    "The following code blocks provides three different filter schemes with varying stringency. When exporting several files (e.g. gtf and transcript table), be careful to use consistent filtering parameters for all files to ensure compatibility. \n",
    "\n",
    "* The *permissive* filtering scheme selects reference transcripts, as well as novel transcripts which are not tagged as artifacts, as long as they are supported by two or more reads.\n",
    "* The *balanced* filtering scheme requires at least 5 reads for novel transcripts. This can be realized with a custom filter tag HIGH_COVER.\n",
    "* The *strict* filtering requests at least 5 reads for all transcripts (min_coverage parameter), and at least 5% contribution to the genes total, ensured by the predefined tag SUBSTANTIAL.\n",
    "\n",
    "Note that these filtering schemes may require adaption, depending on the dataset and the specific analysis task."
   ]
  },
  {
   "cell_type": "code",
   "execution_count": 23,
   "metadata": {},
   "outputs": [],
   "source": [
    "# add the custom filter HIGH_COVER\n",
    "isoseq.add_filter( \"HIGH_COVER\",'g.coverage.sum(0)[trid]>= 7',\n",
    "  context='transcript')\n",
    "\n",
    "# define the filtering shemes\n",
    "permissive={\n",
    "  \"query\": \"FSM or not ( RTTS or INTERNAL_PRIMING or FRAGMENT )\",\n",
    "  \"min_coverage\": 2\n",
    "}\n",
    "\n",
    "balanced={'query':\n",
    "  'FSM or (HIGH_COVER and not (RTTS or FRAGMENT or INTERNAL_PRIMING))',\n",
    "  'min_coverage':2\n",
    "}\n",
    "\n",
    "strict={'query':\n",
    "  'SUBSTANTIAL and (FSM or not (RTTS or FRAGMENT or INTERNAL_PRIMING))',\n",
    "  'min_coverage':7\n",
    "}\n"
   ]
  },
  {
   "cell_type": "code",
   "execution_count": 24,
   "metadata": {},
   "outputs": [
    {
     "name": "stderr",
     "output_type": "stream",
     "text": [
      "100%|██████████| 10801/10801 [00:00<00:00, 17798.62genes/s]\n"
     ]
    }
   ],
   "source": [
    "\n",
    "isoseq.write_gtf(f'{path}/demonstration_dataset_transcripts_balanced.gtf', **balanced)\n",
    "\n",
    "transcript_tab=isoseq.transcript_table(groups=isoseq.groups(),\n",
    "                                       tpm=True,\n",
    "                                       coverage=True,\n",
    "                                       progress_bar=True,\n",
    "                                       ** balanced)\n",
    "\n",
    "# write to csv file\n",
    "transcript_tab.to_csv(f'{path}/demonstration_dataset_transcripts_balanced.csv',\n",
    "                      index=False, sep='\\t')\n"
   ]
  }
 ],
 "metadata": {
  "kernelspec": {
   "display_name": "Python 3 (ipykernel)",
   "language": "python",
   "name": "python3"
  },
  "language_info": {
   "codemirror_mode": {
    "name": "ipython",
    "version": 3
   },
   "file_extension": ".py",
   "mimetype": "text/x-python",
   "name": "python",
   "nbconvert_exporter": "python",
   "pygments_lexer": "ipython3",
   "version": "3.10.14"
  }
 },
 "nbformat": 4,
 "nbformat_minor": 4
}
