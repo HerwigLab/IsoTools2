{
 "cells": [
  {
   "cell_type": "markdown",
   "metadata": {},
   "source": [
    "# Data access and Filtering\n",
    "\n",
    "In this tutorial, we will learn to\n",
    "\n",
    "* access genes by gene_name/gene_id.\n",
    "* iterate over genes/ transcripts, and filter them by their properties, genomic location or coverage. \n",
    "* use IsoTools query syntax to filter genes and transcripts. \n",
    "* define custom tags and filter expressions, to tailor filter queries.\n",
    "\n",
    "\n",
    "This tutorial depends on the transcriptome file PacBio_isotools_substantial_isotools.pkl, which can be obtained with this [download link](https://oc-molgen.gnz.mpg.de/owncloud/s/gjG9EPiQwpRAyg3)"
   ]
  },
  {
   "cell_type": "code",
   "execution_count": 1,
   "metadata": {},
   "outputs": [
    {
     "name": "stderr",
     "output_type": "stream",
     "text": [
      "This is isotools version 0.3.2rc6, but data has been pickled with version 0.3.2rc2, which may be incompatible\n"
     ]
    }
   ],
   "source": [
    "from isotools import Transcriptome\n",
    "import matplotlib.pyplot as plt\n",
    "import numpy as np\n",
    "import pandas as pd\n",
    "\n",
    "path='demonstration_dataset'\n",
    "isoseq=Transcriptome.load(f'{path}/PacBio_isotools_substantial_isotools.pkl')"
   ]
  },
  {
   "cell_type": "markdown",
   "metadata": {},
   "source": [
    "## Access genes by name or id\n",
    "Gene objects can be retrieved from the transcriptome object using the square bracket operator. This works with both the gene name and gene id. The gene object contains all information of the gene, like the coverage and the list of transcripts, which in turn contain the list of exons, comparison with reference annotation and much more. "
   ]
  },
  {
   "cell_type": "code",
   "execution_count": 2,
   "metadata": {},
   "outputs": [
    {
     "name": "stdout",
     "output_type": "stream",
     "text": [
      "found the same gene by name and id\n",
      "Gene RIPK2 chr8:89757805-89791064(+), 4 reference transcripts, 52 expressed transcripts\n",
      "920 reads in total\n"
     ]
    }
   ],
   "source": [
    "g=isoseq['ENSG00000104312.8']\n",
    "if g==isoseq['RIPK2']:\n",
    "    print('found the same gene by name and id')\n",
    "\n",
    "#string representation\n",
    "print(g)\n",
    "# obtain the sum coverage over all transcripts and samples\n",
    "total_cov=g.coverage.sum()\n",
    "print(f\"{total_cov} reads in total\")"
   ]
  },
  {
   "cell_type": "code",
   "execution_count": 3,
   "metadata": {},
   "outputs": [
    {
     "name": "stdout",
     "output_type": "stream",
     "text": [
      "7 transcripts contribute at least 1% to that gene\n"
     ]
    }
   ],
   "source": [
    "#This gene has 52 expressed transcripts, only 4 of them are in the reference.\n",
    "#However, most are supported by few reads only\n",
    "print(f'{sum([cov>total_cov *.01 for cov in g.coverage.sum(0)])} transcripts contribute at least 1% to that gene')\n"
   ]
  },
  {
   "cell_type": "code",
   "execution_count": 4,
   "metadata": {},
   "outputs": [
    {
     "name": "stdout",
     "output_type": "stream",
     "text": [
      "The primary transcript is number 2 and contributes 40.33%  (371/920 reads)\n"
     ]
    }
   ],
   "source": [
    "#lets look at the primary transcript\n",
    "max_i=np.argmax(g.coverage.sum(0))\n",
    "max_contribution=g.coverage.sum(0)[max_i]\n",
    "print(f'The primary transcript is number {max_i} and contributes {max_contribution/total_cov:.2%}  ({max_contribution}/{total_cov} reads)')\n"
   ]
  },
  {
   "cell_type": "code",
   "execution_count": 5,
   "metadata": {},
   "outputs": [
    {
     "name": "stdout",
     "output_type": "stream",
     "text": [
      "\n",
      "These are the infos for this transcript:\n",
      "exons: [[89757792, 89758233], [89762828, 89762982], [89765340, 89765496], [89769771, 89769929], [89771740, ...\n",
      "strand: +\n",
      "coverage: {'GM12878_a': 48, 'GM12878_b': 135, 'GM12878_c': 138, 'K562_a': 19, 'K562_b': 18, 'K562_c': 13}\n",
      "TSS: {'GM12878_a': {89757763: 1, 89757766: 1, 89757778: 1, 89757782: 3, 89757783: 4, 89757784: 4, 8975778...\n",
      "PAS: {'GM12878_a': {89790462: 3, 89791057: 3, 89790608: 5, 89790939: 3, 89790606: 3, 89790425: 1, 8979046...\n",
      "annotation: (0, {'FSM': [1]})\n",
      "TSS_unified: {'GM12878_a': {89757792: 48}, 'GM12878_b': {89757792: 135}, 'GM12878_c': {89757792: 138}, 'K562_a': ...\n",
      "PAS_unified: {'GM12878_a': {89790463: 20, 89790983: 10, 89790606: 11, 89790940: 3, 89790525: 4}, 'GM12878_b': {89...\n",
      "ORF: (89758060, 89790416, {'start': 268, 'length': 1623, 'start_codon': 'ATG', 'stop_codon': 'TAA', 'NMD'...\n",
      "direct_repeat_len: [3, 3, 4, 5, 7, 3, 5, 4, 6, 4]\n",
      "downstream_A_content: 0.2\n"
     ]
    }
   ],
   "source": [
    "#all the information for this transcript are stored in this dict:\n",
    "primary=g.transcripts[max_i]\n",
    "print(f'\\nThese are the infos for this transcript:')\n",
    "for k,v in primary.items():\n",
    "    print(f'{k}: {str(v)[:100]}{\"...\" if len(str(v))>100 else \"\"}')\n",
    "\n"
   ]
  },
  {
   "cell_type": "code",
   "execution_count": 6,
   "metadata": {},
   "outputs": [
    {
     "name": "stdout",
     "output_type": "stream",
     "text": [
      "\n",
      "The corresponding reference transcript: \n",
      "transcript_id: ENST00000220751.5\n",
      "transcript_type: protein_coding\n",
      "transcript_name: RIPK2-201\n",
      "transcript_support_level: 1\n",
      "exons: [(89757815, 89758233), (89762828, 89762982), (89765340, 89765496), (89769771, 89769929), (89771740, ...\n",
      "CDS: (89758060, 89790416)\n",
      "downstream_A_content: 0.06666666666666667\n"
     ]
    }
   ],
   "source": [
    "\n",
    "# this 'annotation' line reveals that it is a FSM with reference transcript nr 1:\n",
    "# annotation: (0, {'FSM': [1]})\n",
    "\n",
    "print(f'\\nThe corresponding reference transcript: ')\n",
    "for k,v in g.ref_transcripts[primary[\"annotation\"][1][\"FSM\"][0]].items():\n",
    "    print(f'{k}: {str(v)[:100]}{\"...\" if len(str(v))>100 else \"\"}')"
   ]
  },
  {
   "cell_type": "markdown",
   "metadata": {},
   "source": [
    "## Iterating genes and transcripts\n",
    "To iterate genes and transcripts, the transcriptome object provides the functions iter_transcripts and iter_genes. Both have the option to filter by genomic region or coverage, and with queries. The gene iterator yield the gene, while the transcript iterator function yields a 3 tuple with gene, transcript index, and transcript dictionary."
   ]
  },
  {
   "cell_type": "code",
   "execution_count": 7,
   "metadata": {},
   "outputs": [
    {
     "name": "stdout",
     "output_type": "stream",
     "text": [
      "Gene OSGIN2 chr8:89901848-89927888(+), 4 reference transcripts, 48 expressed transcripts\n",
      "\t573 reads\n",
      "Gene RIPK2 chr8:89757805-89791064(+), 4 reference transcripts, 52 expressed transcripts\n",
      "\t920 reads\n",
      "Gene NBN chr8:89924514-90003228(-), 38 reference transcripts, 327 expressed transcripts\n",
      "\t2259 reads\n"
     ]
    }
   ],
   "source": [
    "for g in isoseq.iter_genes(region='chr8:89000000-90000000', min_coverage=100):\n",
    "    print(g)\n",
    "    print(f'\\t{g.coverage.sum()} reads')"
   ]
  },
  {
   "cell_type": "markdown",
   "metadata": {},
   "source": [
    "## Filtering tags and queries\n",
    "IsoTools allows to filter genes and transcripts based on **TAGS** (single word in ALLCAPS).\n",
    "\n",
    "Each TAG is defined by a corresponding **expression**, that gets evaluated on the properties of the gene or transcript.\n",
    "\n",
    "A TAG is defined in a specific **context**, either gene, transcript, or reference transcript context, in which the expression gets evaluated. Expressions in gene context depend on properties of the gene, while in transcript context, the properties of the transcript are relevant. \n",
    "\n",
    "We already used tags in the previous tutorial, for the definition of the sequencing artifacts.'INTERNAL_PRIMING','FRAGMENT','RTTS' all have corresponding expressions, that define them. For example, the expression for INTERNAL_PRIMING tag is 'len(exons)==1 and downstream_A_content and downstream_A_content>.5', e.g. it selects (e.g. returns True) mono exon genes with more than 50% A downstream of the transcript. \n",
    "\n",
    "\n",
    "As additional examples, we print the default definitions for all defined tags."
   ]
  },
  {
   "cell_type": "code",
   "execution_count": 8,
   "metadata": {},
   "outputs": [
    {
     "name": "stdout",
     "output_type": "stream",
     "text": [
      "\n",
      "gene\n",
      "====\n",
      "- NOVEL_GENE:\tnot reference\n",
      "- EXPRESSED:\ttranscripts\n",
      "- CHIMERIC:\tchimeric\n",
      "\n",
      "transcript\n",
      "==========\n",
      "- INTERNAL_PRIMING:\tlen(exons)==1 and downstream_A_content and downstream_A_content>.5\n",
      "- RTTS:\tnoncanonical_splicing is not None and novel_splice_sites is not None and         any(2*i in novel_splice_sites and 2*i+1 in novel_splice_sites for i,_ in noncanonical_splicing)\n",
      "- NONCANONICAL_SPLICING:\tnoncanonical_splicing\n",
      "- NOVEL_TRANSCRIPT:\tannotation[0]>0\n",
      "- FRAGMENT:\tfragments and any(\"novel exonic \" in a or \"fragment\" in a for a in annotation[1])\n",
      "- UNSPLICED:\tlen(exons)==1\n",
      "- MULTIEXON:\tlen(exons)>1\n",
      "- SUBSTANTIAL:\tg.coverage.sum() * .01 < g.coverage[:,trid].sum()\n",
      "- ANTISENSE:\t\"antisense\" in annotation[1]\n",
      "- INTERGENIC:\t\"intergenic\" in annotation[1]\n",
      "- GENIC_GENOMIC:\t\"genic genomic\" in annotation[1]\n",
      "- NOVEL_EXONIC_PAS:\t\"novel exonic PAS\" in annotation[1]\n",
      "- NOVEL_INTRONIC_PAS:\t\"novel intronic PAS\" in annotation[1]\n",
      "- READTHROUGH_FUSION:\t\"readthrough fusion\" in annotation[1]\n",
      "- NOVEL_EXON:\t\"novel exon\" in annotation[1]\n",
      "- NOVEL_3_SPLICE_SITE:\t\"novel 3' splice site\" in annotation[1]\n",
      "- INTRON_RETENTION:\t\"intron retention\" in annotation[1]\n",
      "- NOVEL_5_SPLICE_SITE:\t\"novel 5' splice site\" in annotation[1]\n",
      "- EXON_SKIPPING:\t\"exon skipping\" in annotation[1]\n",
      "- NOVEL_COMBINATION:\t\"novel combination\" in annotation[1]\n",
      "- NOVEL_INTRONIC_TSS:\t\"novel intronic TSS\" in annotation[1]\n",
      "- NOVEL_EXONIC_TSS:\t\"novel exonic TSS\" in annotation[1]\n",
      "- MONO_EXON:\t\"mono-exon\" in annotation[1]\n",
      "- NOVEL_JUNCTION:\t\"novel junction\" in annotation[1]\n",
      "- _5_FRAGMENT:\t\"5' fragment\" in annotation[1]\n",
      "- _3_FRAGMENT:\t\"3' fragment\" in annotation[1]\n",
      "- INTRONIC:\t\"intronic\" in annotation[1]\n",
      "- FSM:\tannotation[0]==0\n",
      "- ISM:\tannotation[0]==1\n",
      "- NIC:\tannotation[0]==2\n",
      "- NNC:\tannotation[0]==3\n",
      "- NOVEL:\tannotation[0]==4\n",
      "- COVERED:\tany(g.coverage[:,trid] > 2)\n",
      "- HIGH_COVERED:\tany(g.coverage[:,trid] > 5)\n",
      "\n",
      "reference\n",
      "=========\n",
      "- REF_UNSPLICED:\tlen(exons)==1\n",
      "- REF_MULTIEXON:\tlen(exons)>1\n",
      "- REF_INTERNAL_PRIMING:\tdownstream_A_content>.5\n"
     ]
    }
   ],
   "source": [
    "\n",
    "#print all defined filter expressions\n",
    "for context in isoseq.filter:\n",
    "    print(f'\\n{context}\\n{\"=\"*len(context)}')\n",
    "    for tag,expression in isoseq.filter[context].items():\n",
    "        print(f'- {tag}:\\t{expression}')\n"
   ]
  },
  {
   "cell_type": "markdown",
   "metadata": {},
   "source": [
    "## Custom Tags\n",
    "Users can modify existing criteria, for example to adjust thresholds, or define additional criteria, based on custom properties. \n",
    "\n",
    "The following example shows how the user can define additional flags, in this case \"HIGH_SUPPORT\" and \"PROTEIN_CODING\" for the reference transcripts, which is based on the GENCODE annotation information on \"transcript_support_level\" and \"transcript_type\". \n"
   ]
  },
  {
   "cell_type": "code",
   "execution_count": 9,
   "metadata": {},
   "outputs": [],
   "source": [
    "#add /modify custom filter\n",
    "\n",
    "isoseq.add_filter( \"HIGH_SUPPORT\", 'transcript_support_level==\"1\"', context='reference')\n",
    "isoseq.add_filter( \"PROTEIN_CODING\", 'transcript_type==\"protein_coding\"', context='reference')\n"
   ]
  },
  {
   "cell_type": "markdown",
   "metadata": {},
   "source": [
    "## Filter Queries\n",
    "The tags can be combined to boolean expressions, to query transcripts of interest. For example, to find novel exon skipping events, that contribute substantially to the genes total expression:"
   ]
  },
  {
   "cell_type": "code",
   "execution_count": 10,
   "metadata": {},
   "outputs": [
    {
     "name": "stdout",
     "output_type": "stream",
     "text": [
      "Transcript nr 5 of \"Gene ARMC1 chr8:65602457-65634217(-), 6 reference transcripts, 59 expressed transcripts\" with a coverage of 51\n",
      "  -> [[65605421, 65605538]]\n",
      "Transcript nr 3 of \"Gene ZNF7 chr8:144827517-144847509(+), 18 reference transcripts, 85 expressed transcripts\" with a coverage of 52\n",
      "  -> [[144828007, 144828053], [144828728, 144828950], [144829042, 144829604], [144830930, 144831029]]\n",
      "Transcript nr 0 of \"Gene CIBAR1 chr8:93698560-93731527(+), 18 reference transcripts, 29 expressed transcripts\" with a coverage of 296\n",
      "  -> [[93707201, 93707281], [93708010, 93708016]]\n",
      "Transcript nr 8 of \"Gene RIPK2 chr8:89757805-89791064(+), 4 reference transcripts, 52 expressed transcripts\" with a coverage of 115\n",
      "  -> [[89784049, 89784139]]\n",
      "Transcript nr 16 of \"Gene RIPK2 chr8:89757805-89791064(+), 4 reference transcripts, 52 expressed transcripts\" with a coverage of 124\n",
      "  -> [[89784049, 89784139]]\n"
     ]
    }
   ],
   "source": [
    "\n",
    "i=0\n",
    "for g,trnr,tr in isoseq.iter_transcripts(query='EXON_SKIPPING and SUBSTANTIAL', min_coverage=50):\n",
    "    print(f'Transcript nr {trnr} of \"{g}\" with a coverage of {g.coverage.sum(0)[trnr]}') \n",
    "    print(f\"  -> {tr['annotation'][1]['exon skipping']}\")\n"
   ]
  }
 ],
 "metadata": {
  "kernelspec": {
   "display_name": "Python 3 (ipykernel)",
   "language": "python",
   "name": "python3"
  },
  "language_info": {
   "codemirror_mode": {
    "name": "ipython",
    "version": 3
   },
   "file_extension": ".py",
   "mimetype": "text/x-python",
   "name": "python",
   "nbconvert_exporter": "python",
   "pygments_lexer": "ipython3",
   "version": "3.10.8"
  }
 },
 "nbformat": 4,
 "nbformat_minor": 4
}
