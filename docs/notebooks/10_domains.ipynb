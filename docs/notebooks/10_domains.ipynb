{
 "cells": [
  {
   "cell_type": "markdown",
   "metadata": {},
   "source": [
    "# Protein Domains\n",
    "Isotools facilitates integration of functional data on protein isoforms, in the form of protein domains. \n",
    "\n",
    "Three different types of sources for protein domains can be used:\n",
    "\n",
    "* **annotation based**: These domains are based on UniProt UCSC genome browser tracks. Annotation tables can be retrieved from [UCSC Table Browser](https://genome.ucsc.edu/cgi-bin/hgTables). Select group: = “Genes and Gene Predictions”, track: “UniProt”, and chose from the available tables (e.g. “domains”). Generally, this is the fastest approach, but it does not cover novel exonic regions nor novel splice junctions. These annotations are added to the *Transcriptome* with the method [add_annotation_domains](../isotoolsAPI.html?highlight=add_annotation_domains#isotools.Transcriptome.add_annotation_domains).\n",
    "* **alignment based**: Second, domain models are aligned to the protein sequences, using hmmer. This depends on model and metadata files for the domains. For Pfam domains, these files are available for download on the interpro website, at \"https://www.ebi.ac.uk/interpro/download/Pfam/\". Domains are aligned to the transcripts and added to the *Transcriptome* with the method [add_hmmer_domains](../isotoolsAPI.html?highlight=add_hmmer_domains#isotools.Transcriptome.add_hmmer_domains)\n",
    "* **web request**: Last, domains are obtained with the ebi interpro REST API. This approach is quite slow, and cannot be applied genome wide, and is implemented with the Gene method [add_interpro_domains](../isotoolsAPI.html?highlight=add_interpro_domains#isotools.Gene.add_interpro_domains).\n",
    "\n",
    "In this tutorial we learn how to use the different resources to functionally annotate the identified transcript isoforms, to depict the domain structure, and to integrate the domain information with differential splicing analysis. \n",
    "\n",
    "This tutorial assumes you have run the tutorial on [transcriptome reconstruction](03_transcriptome_reconstruction.html) already, and prepared the transcriptome pkl file \"PacBio_isotools.pkl\" based on the [demonstration data set](https://nc.molgen.mpg.de/cloud/index.php/s/zYe7g6qnyxGDxRd). Since domains depend on ORF predictions, make sure you ran the [add_orf_prediction()](../isotoolsAPI.html?highlight=add_orf_prediction#isotools.Transcriptome.add_orf_prediction) function during transcriptome reconstruction. "
   ]
  },
  {
   "cell_type": "code",
   "execution_count": 1,
   "metadata": {},
   "outputs": [],
   "source": [
    "from isotools import Transcriptome\n",
    "import matplotlib.pyplot as plt\n",
    "import pandas as pd\n",
    "\n",
    "path='demonstration_dataset'\n",
    "isoseq=Transcriptome.load(f'{path}/PacBio_isotools.pkl')"
   ]
  },
  {
   "cell_type": "markdown",
   "metadata": {},
   "source": [
    "## Add annotation based domains.\n",
    "As described above, annotation tables need to be downloaded [here.](https://genome.ucsc.edu/cgi-bin/hgTables) I downloaded the \"Domains\", as well as \"Transmembrane\", and \"Interest\" annotations as tsv for chr8 in a subfolder \"demonstration_dataset/annotation_domains\", and named them as follows:"
   ]
  },
  {
   "cell_type": "code",
   "execution_count": 2,
   "metadata": {},
   "outputs": [
    {
     "name": "stdout",
     "output_type": "stream",
     "text": [
      "ucsc_domains.tsv  ucsc_interest.tsv  ucsc_transmembrane.tsv\n"
     ]
    }
   ],
   "source": [
    "!ls demonstration_dataset/annotation_domains/"
   ]
  },
  {
   "cell_type": "markdown",
   "metadata": {},
   "source": [
    "\n",
    "The following code adds the annotation from each of the tables in the subfolder "
   ]
  },
  {
   "cell_type": "code",
   "execution_count": 3,
   "metadata": {},
   "outputs": [
    {
     "name": "stdout",
     "output_type": "stream",
     "text": [
      "domains\n"
     ]
    },
    {
     "name": "stderr",
     "output_type": "stream",
     "text": [
      "  0%|          | 0/2583 [00:00<?, ?domains/s]"
     ]
    },
    {
     "name": "stderr",
     "output_type": "stream",
     "text": [
      "100%|██████████| 2583/2583 [00:08<00:00, 290.78domains/s]\n"
     ]
    },
    {
     "name": "stdout",
     "output_type": "stream",
     "text": [
      "interest\n"
     ]
    },
    {
     "name": "stderr",
     "output_type": "stream",
     "text": [
      "100%|██████████| 2496/2496 [00:06<00:00, 364.78domains/s]\n"
     ]
    },
    {
     "name": "stdout",
     "output_type": "stream",
     "text": [
      "transmembrane\n"
     ]
    },
    {
     "name": "stderr",
     "output_type": "stream",
     "text": [
      "100%|██████████| 1118/1118 [00:01<00:00, 598.81domains/s]\n"
     ]
    }
   ],
   "source": [
    "from pathlib import Path\n",
    "from glob import glob\n",
    "for file in glob(f'{path}/annotation_domains/ucsc_*.tsv'):\n",
    "    what=Path(file).stem.split('_',2)[1]\n",
    "    print(what)\n",
    "    isoseq.add_annotation_domains(file,category=what, name_col='name', progress_bar=True)\n"
   ]
  },
  {
   "cell_type": "markdown",
   "metadata": {},
   "source": [
    "## Plot the domain structure of genes\n",
    "IsoTools implements specific visualization functionality to depict the domain structure of genes of interest, to explore different isoforms in the context of protein domains. To this end, *Genes* provide the [plot_domains](../isotoolsAPI.html?highlight=plot_domains#isotools.Transcriptome.plot_domains) method. Here, we want to visualize the top expressed transcripts of the differentially spliced gene RIPK2, which has an exon skipping event between positions 89780160 and 89786592.\n",
    "While GM12878 exclusively expresses transcripts including the exon, K562 mostly skips this exon. "
   ]
  },
  {
   "cell_type": "code",
   "execution_count": 4,
   "metadata": {},
   "outputs": [
    {
     "data": {
      "image/png": "[encoded data removed]",
      "text/plain": [
       "<Figure size 640x480 with 1 Axes>"
      ]
     },
     "metadata": {},
     "output_type": "display_data"
    }
   ],
   "source": [
    "goi=isoseq['RIPK2']\n",
    "dom_cols={'domains':'green','transmembrane3':'pink', 'interest3':'yellow'}\n",
    "transcript_ids=goi.filter_transcripts('SUBSTANTIAL and not MONO_EXON')\n",
    "es_region=[[89780160, 89786592]] # region to highlight (red vertical stripe)\n",
    "ax, blocks=goi.plot_domains(source='annotation',\n",
    "                            categories=['domains','transmembrane', 'interest'],\n",
    "                            ref_transcript_ids=False,\n",
    "                            transcript_ids=[0,2,8,12,16],#goi.filter_transcripts('SUBSTANTIAL and not MONO_EXON'),\n",
    "                            label='name',\n",
    "                            domain_cols=dom_cols,\n",
    "                            include_utr=True,\n",
    "                            max_overlap=3,\n",
    "                            highlight=es_region)\n"
   ]
  },
  {
   "cell_type": "markdown",
   "metadata": {},
   "source": [
    "As we see, the skipped exon does not disrupt the ORF, and also does not cover a domain, but the disordered region between the Protein kinase and CARD domains.\n",
    "\n",
    "## Annotate tables with domains\n",
    "\n",
    "To annotate all identified differential spliced events, we first import the table prepared in the [previous tutorial](09_diff_splice.html). During export, the list format of the transcript id is lost, so we need to make sure they are imported correctly."
   ]
  },
  {
   "cell_type": "code",
   "execution_count": 5,
   "metadata": {},
   "outputs": [],
   "source": [
    "import ast\n",
    "\n",
    "diff_splice=pd.read_csv(f'{path}/demonstration_dataset_differential_events.csv',\n",
    "                        converters={col:ast.literal_eval for col in ('trA', 'trB')})\n"
   ]
  },
  {
   "cell_type": "markdown",
   "metadata": {},
   "source": [
    "Now, we can use the function [add_domains_to_table](../isotoolsAPI.html?highlight=add_domains_to_table#isotools.domains.add_domains_to_table), to annotate the differential events with the domains. \n",
    "This function has a parameter \"modes\", specifying, how the domains of the event are summarized. \n",
    "Domains of transcripts sets from different columns are aggregated with set operations. \n",
    "Additionally,  there is a parameter \"overlap_only\", to consider only domains overlapping the event region (as defined by the \"start\" end \"end\" columns of the table).\n",
    "For example, to get the union of all domains from the transcripts in both sets trA and trB, the \"mode\" would be \"trA|trB\". For the top hit, the exon skipping of RIPK2, this reveals the disordered region already identified in the plot above. \n",
    "Domains unique to either set can be retrieved with the modes 'trA-trB' and 'trB-trA' respectively, which are evaluated as set differences. \n"
   ]
  },
  {
   "cell_type": "code",
   "execution_count": 6,
   "metadata": {},
   "outputs": [
    {
     "data": {
      "text/html": [
       "<div>\n",
       "<style scoped>\n",
       "    .dataframe tbody tr th:only-of-type {\n",
       "        vertical-align: middle;\n",
       "    }\n",
       "\n",
       "    .dataframe tbody tr th {\n",
       "        vertical-align: top;\n",
       "    }\n",
       "\n",
       "    .dataframe thead th {\n",
       "        text-align: right;\n",
       "    }\n",
       "</style>\n",
       "<table border=\"1\" class=\"dataframe\">\n",
       "  <thead>\n",
       "    <tr style=\"text-align: right;\">\n",
       "      <th></th>\n",
       "      <th>gene</th>\n",
       "      <th>trA-trB domains</th>\n",
       "      <th>trB-trA domains</th>\n",
       "      <th>trA|trB overlap domains</th>\n",
       "    </tr>\n",
       "  </thead>\n",
       "  <tbody>\n",
       "    <tr>\n",
       "      <th>0</th>\n",
       "      <td>RIPK2</td>\n",
       "      <td>{}</td>\n",
       "      <td>{Disordered}</td>\n",
       "      <td>{Disordered}</td>\n",
       "    </tr>\n",
       "    <tr>\n",
       "      <th>1</th>\n",
       "      <td>ASAH1</td>\n",
       "      <td>{Disordered}</td>\n",
       "      <td>{}</td>\n",
       "      <td>{}</td>\n",
       "    </tr>\n",
       "    <tr>\n",
       "      <th>2</th>\n",
       "      <td>RECQL4</td>\n",
       "      <td>{}</td>\n",
       "      <td>{}</td>\n",
       "      <td>{}</td>\n",
       "    </tr>\n",
       "    <tr>\n",
       "      <th>3</th>\n",
       "      <td>SNHG6</td>\n",
       "      <td>{}</td>\n",
       "      <td>{}</td>\n",
       "      <td>{}</td>\n",
       "    </tr>\n",
       "    <tr>\n",
       "      <th>4</th>\n",
       "      <td>NAPRT</td>\n",
       "      <td>{}</td>\n",
       "      <td>{}</td>\n",
       "      <td>{Nicotinate pho...}</td>\n",
       "    </tr>\n",
       "  </tbody>\n",
       "</table>\n",
       "</div>"
      ],
      "text/plain": [
       "     gene trA-trB domains trB-trA domains trA|trB overlap domains\n",
       "0   RIPK2              {}    {Disordered}            {Disordered}\n",
       "1   ASAH1    {Disordered}              {}                      {}\n",
       "2  RECQL4              {}              {}                      {}\n",
       "3   SNHG6              {}              {}                      {}\n",
       "4   NAPRT              {}              {}     {Nicotinate pho...}"
      ]
     },
     "execution_count": 6,
     "metadata": {},
     "output_type": "execute_result"
    }
   ],
   "source": [
    "from isotools.domains import add_domains_to_table\n",
    "\n",
    "# get domains of the union of sets trA and trB, directly overlapping the event\n",
    "diff_splice=add_domains_to_table( table=diff_splice,\n",
    "                                 transcriptome=isoseq,\n",
    "                                 source='annotation',\n",
    "                                 modes=['trA|trB'],\n",
    "                                 overlap_only=True,\n",
    "                                 naming='name',\n",
    "                                 insert_after='pvalue' )\n",
    "\n",
    "# get domains unique to sets trA and trB, from the complete transcript\n",
    "diff_splice=add_domains_to_table( table=diff_splice,\n",
    "                                 transcriptome=isoseq,\n",
    "                                 source='annotation',\n",
    "                                 modes=['trA-trB', 'trB-trA'],\n",
    "                                 overlap_only=False,\n",
    "                                 naming='name',\n",
    "                                 insert_after='pvalue' )\n",
    "pd.set_option('display.max_columns', None)\n",
    "\n",
    "diff_splice[['gene']+[c for c in diff_splice.columns if 'domains' in c]].head()"
   ]
  }
 ],
 "metadata": {
  "kernelspec": {
   "display_name": "Python 3 (ipykernel)",
   "language": "python",
   "name": "python3"
  },
  "language_info": {
   "codemirror_mode": {
    "name": "ipython",
    "version": 3
   },
   "file_extension": ".py",
   "mimetype": "text/x-python",
   "name": "python",
   "nbconvert_exporter": "python",
   "pygments_lexer": "ipython3",
   "version": "3.12.5"
  }
 },
 "nbformat": 4,
 "nbformat_minor": 4
}
