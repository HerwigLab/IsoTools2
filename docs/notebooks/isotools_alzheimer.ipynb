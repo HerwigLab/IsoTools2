{
 "cells": [
  {
   "cell_type": "markdown",
   "metadata": {},
   "source": [
    "# PacBio 2019 Alzheimer Sequel2 dataset\n",
    "\n",
    "This notebook demonstrates the data preprocessing, import and basic vizualization of genes with Sashimi plots. \n",
    "\n",
    "## Preparation\n",
    "1) Prepare the working directory and download the reference and data\n",
    "``` bash\n",
    "    cd /my/working/directory\n",
    "    # create some subdirectories\n",
    "    mkdir -p reference alzheimer/flnc alzheimer/aligned alzheimer/pickle tables plots\n",
    "    \n",
    "    # download a reference genome (806 MB)\n",
    "    genome_link='ftp://ftp.ebi.ac.uk/pub/databases/gencode/Gencode_human/release_36/GRCh38.p13.genome.fa.gz'\n",
    "    wget -P reference/ -O GRCh38.p13.genome.fa.gz ${genome_link} \n",
    "    gunzip reference/GRCh38.p13.genome.fa.gz\n",
    "    \n",
    "    # download gencode reference annotation (46.2 MB)\n",
    "    gff='gencode.v36.chr_patch_hapl_scaff.annotation'\n",
    "    annotation_link= ftp://ftp.ebi.ac.uk/pub/databases/gencode/Gencode_human/release_36/${gff}.gff3.gz\n",
    "    wget -P reference/ ${annotation_link} \n",
    "    \n",
    "    # sort by chromosome and position\n",
    "    (zcat ${gff}.gff3.gz| grep ^\"#\" ; zcat reference/${gff}.gff3.gz|grep -v ^\"#\"| sort -k1,1 -k4,4n)|bgzip  > reference/${gff}_sorted.gff3.gz\n",
    "    # create index\n",
    "    tabix -p gff reference/${gff}_sorted.gff3.gz\n",
    "    \n",
    "    # download the isoseq flnc data (4.1 GB)\n",
    "    isoseq_link='https://downloads.pacbcloud.com/public/dataset/Alzheimer2019_IsoSeq/FullLengthReads/flnc.bam'\n",
    "    wget -P alzheimer/flnc -O alzheimer2019_isoseq_flnc.bam ${isoseq_link} \n",
    "```\n",
    "\n",
    "2) Align the isoseq data to the reference genome using minimap2.\n",
    "If the pacbio isoseq3 workflow is [installed](https://github.com/PacificBiosciences/IsoSeq_SA3nUP/wiki/Tutorial:-Installing-and-Running-Iso-Seq-3-using-Conda) you can use the pacbio version of minimap2 as follows:\n",
    "\n",
    "``` sh\n",
    "    #activate the isoseq3 environement (assuming it is called pacbio)\n",
    "    conda activate pacbio\n",
    "    n_threads=60\n",
    "    sample='alzheimer2019_isoseq'\n",
    "    ref='reference/GRCh38.p13.genome.fa'\n",
    "    pbmm2 align ${ref} alzheimer/flnc/${sample}_flnc.bam alzheimer/aligned/${sample}_aligned.sorted.bam --preset ISOSEQ --sort -j $n_threads \n",
    "```\n",
    "\n"
   ]
  },
  {
   "cell_type": "markdown",
   "metadata": {},
   "source": [
    "## Data import"
   ]
  },
  {
   "cell_type": "code",
   "execution_count": 1,
   "metadata": {},
   "outputs": [
    {
     "name": "stdout",
     "output_type": "stream",
     "text": [
      "This is isootools version 0.2.0.dev3\n"
     ]
    }
   ],
   "source": [
    "import isotools\n",
    "print(f'This is isootools version {isotools.__version__}')\n",
    "import matplotlib.pyplot as plt\n",
    "import numpy as np\n",
    "import pandas as pd\n",
    "import logging\n",
    "\n",
    "logging.basicConfig(format='%(levelname)s:%(message)s', level=logging.INFO)\n",
    "logger=logging.getLogger('isotools')\n"
   ]
  },
  {
   "cell_type": "code",
   "execution_count": 2,
   "metadata": {},
   "outputs": [],
   "source": [
    "sample='alzheimer2019_isoseq'\n",
    "bam=f'alzheimer/aligned/{sample}_aligned.sorted.bam'\n",
    "genome='reference/GRCh38.p13.genome.fa'\n",
    "anno='reference/gencode.v36.chr_patch_hapl_scaff.annotation_sorted'\n",
    "\n"
   ]
  },
  {
   "cell_type": "code",
   "execution_count": 3,
   "metadata": {},
   "outputs": [
    {
     "name": "stderr",
     "output_type": "stream",
     "text": [
      "INFO:loading transcriptome from alzheimer/pickle/alzheimer2019_isoseq_isotoolsXX.pkl\n",
      "INFO:importing reference from pkl file reference/gencode.v36.chr_patch_hapl_scaff.annotation_sorted.isotools.pkl\n",
      "INFO:adding sample alzheimer_1 from file alzheimer/aligned/alzheimer2019_isoseq_aligned.sorted.bam\n",
      "100%|██████████| 4411279.0/4411279 [27:31<00:00, 2670.94reads/s, chr=KI270757.1]\n",
      "WARNING:ignored 1828 chimeric alignments with only one part aligned to specified chromosomes.\n",
      "INFO:imported 22068 chimeric alignments that can be chained to single nonchimeric transcripts (long intron alingment split)\n",
      "INFO:ignoring 75960 chimeric alignments with less than 2 reads\n",
      "INFO:imported 4131037 nonchimeric reads (including  22068 chained chimeric alignments) and 27006 chimeric reads with coverage of at least 2.\n",
      "100%|██████████| 292895/292895 [11:19<00:00, 430.73it/s] \n",
      "INFO:saving transcriptome to alzheimer/pickle/alzheimer2019_isoseq_isotools.pkl\n"
     ]
    }
   ],
   "source": [
    "\n",
    "try:\n",
    "    #try to restore previously prepared data (about 2 minutes)\n",
    "    isoseq=isotools.Transcriptome(f'alzheimer/pickle/{sample}_isotools.pkl')\n",
    "except FileNotFoundError:\n",
    "    try:\n",
    "        #try to restore the reference\n",
    "        isoseq=isotools.Transcriptome.from_reference(anno+'.isotools.pkl')\n",
    "    except FileNotFoundError:\n",
    "        #import the reference from gff3 (3 minutes)\n",
    "        isoseq=isotools.Transcriptome.from_reference(anno+'.gff3.gz') \n",
    "        # save the reference, so it it can be reused for other datasets/analysis\n",
    "        isoseq.save_reference(anno+'.isotools.pkl') \n",
    "    # import the long read data and compare to reference (only one sample for this dataset, takes 30-40 minutes)\n",
    "    isoseq.add_sample_from_bam(bam, sample_name='alzheimer_1', group='alzheimer') \n",
    "    # compute QC metrics for all transcripts\n",
    "    isoseq.add_qc_metrics(genome) #takes 15-20 min\n",
    "    # update the index for fast gene access by name/id\n",
    "    isoseq.make_index()\n",
    "    # save the current data\n",
    "    isoseq.save(f'alzheimer/pickle/{sample}_isotools.pkl')\n"
   ]
  },
  {
   "cell_type": "markdown",
   "metadata": {},
   "source": [
    "## Quality control and filtering\n",
    "Isotools allows to flag and filter genes and transcripts based on user defined criteria. This is helpful e.g. to mark potential artefacts. Isotools comes with some default flags and corresponding criteria, stored in as key value pairs (in dicts).\n",
    "There are three sets of flags, one with criteria evalutated on genes, one on transcripts, and one on reference transcripts. \n",
    "The key is the flag name (usually all capital letters) the value is an expression, that gets evaluated for each gene, transcript or reference transcript. \n",
    "For example, the expression for INTERNAL_PRIMING flag is 'len(exons)==1 and downstream_A_content and downstream_A_content>.5', e.g. it marks mono exon genes with more than 50% A downstream of the transcript. \n",
    "\n",
    "The following example shows how the user can define additional flags, in this case \"HIGH_SUPPORT\" for the reference transcripts (e.g. DEFAULT_REF_TRANSCRIPT_FILTER), which is based on the GENCODE annotation information on \"transcript_support_level\". \n",
    "\n",
    "As additional examples, we print all the default definitions that get evaluated on transcripts (DEFAULT_TRANSCRIPT_FILTER)"
   ]
  },
  {
   "cell_type": "code",
   "execution_count": 4,
   "metadata": {},
   "outputs": [
    {
     "name": "stdout",
     "output_type": "stream",
     "text": [
      "{'INTERNAL_PRIMING': 'len(exons)==1 and downstream_A_content and downstream_A_content>.5', 'RTTS': 'noncanonical_splicing and novel_splice_sites and any(2*i in novel_splice_sites[0] and 2*i+1 in novel_splice_sites[0] for i,_ in noncanonical_splicing)', 'NONCANONICAL_SPLICING': 'noncanonical_splicing', 'NOVEL_TRANSCRIPT': 'annotation is None or annotation[0]>0', 'FRAGMENT': 'fragments and any(\"novel exonic \" in a or \"fragment\" in a for a in annotation[1])', 'NOVEL': 'not annotation or annotation[0]==4', 'UNSPLICED': 'len(exons)==1', 'MULTIEXON': 'len(exons)>1'}\n"
     ]
    },
    {
     "name": "stderr",
     "output_type": "stream",
     "text": [
      "100%|██████████| 292895/292895 [00:37<00:00, 7773.74it/s] \n"
     ]
    }
   ],
   "source": [
    "from isotools import DEFAULT_GENE_FILTER, DEFAULT_TRANSCRIPT_FILTER,DEFAULT_REF_TRANSCRIPT_FILTER\n",
    "ref_filter=DEFAULT_REF_TRANSCRIPT_FILTER\n",
    "#lets define some custom reference filter flags based on the gencode specific transcript information:\n",
    "ref_filter['HIGH_SUPPORT']='transcript_support_level==\"1\"'\n",
    "ref_filter['PROTEIN_CODING']='transcript_type==\"protein_coding\"\n",
    "print(DEFAULT_TRANSCRIPT_FILTER)\n",
    "isoseq.add_filter( gene_filter=DEFAULT_GENE_FILTER, transcript_filter=DEFAULT_TRANSCRIPT_FILTER,ref_transcript_filter=ref_filter)\n"
   ]
  },
  {
   "cell_type": "markdown",
   "metadata": {},
   "source": [
    "We can depict the summary statistics on the quality control metrics and filter flags.\n",
    "Isotools distinguishes 3 main types of artefacts:\n",
    "\n",
    "* **Internal priming**, where the primer binds genomic stretches of high adenosine content, yielding apparent novel genes which are typically unspliced. \n",
    "* **Reverse transcriptase template switching (RTTS)**, resulting in apperant novel introns, often without canonical splice sites.\n",
    "* **Truncated fragments**, of transcripts, yielding apperant novel transcription start sites or polyA sites."
   ]
  },
  {
   "cell_type": "code",
   "execution_count": null,
   "metadata": {},
   "outputs": [
    {
     "name": "stderr",
     "output_type": "stream",
     "text": [
      "INFO:Note: detected 128 virtual cores but NumExpr set to maximum of 64, check \"NUMEXPR_MAX_THREADS\" environment variable.\n",
      "INFO:Note: NumExpr detected 128 cores but \"NUMEXPR_MAX_THREADS\" not set, so enforcing safe limit of 8.\n",
      "INFO:NumExpr defaulting to 8 threads.\n"
     ]
    }
   ],
   "source": [
    "#compute some summary statistics on technical artifacts. \n",
    "tr_stats=[\n",
    "    isoseq.transcript_length_hist( add_reference=True, min_coverage=2,tr_filter=dict( remove=['NOVEL_GENE']), ref_filter=dict(include=['HIGH_SUPPORT'])),\n",
    "    isoseq.downstream_a_hist( tr_filter=dict( remove=['NOVEL_GENE', 'UNSPLICED']), ref_filter=dict(remove=['UNSPLICED'])),\n",
    "    isoseq.downstream_a_hist( tr_filter=dict(include=['NOVEL_GENE', 'UNSPLICED'])),\n",
    "    isoseq.direct_repeat_hist(bins=np.linspace(-.5,10.5,12))]\n",
    "\n",
    "tr_stats.append((pd.concat([tr_stats[2][0].add_suffix(' novel unspliced'),tr_stats[1][0].add_suffix(' known multiexon')],axis=1),tr_stats[2][1]))\n",
    "\n",
    "#statistic on the filter flags\n",
    "f_stats=isoseq.filter_stats( weight_by_coverage=True,min_coverage=1)\n",
    "f_stats[0].index=f_stats[0].index.str.replace('_','\\n')"
   ]
  },
  {
   "cell_type": "code",
   "execution_count": null,
   "metadata": {},
   "outputs": [],
   "source": [
    "#QC plot\n",
    "from isotools.plots import plot_bar, plot_distr\n",
    "\n",
    "plt.rcParams[\"figure.figsize\"] = (15,15)\n",
    "plt.rcParams.update({'font.size': 14})\n",
    "\n",
    "\n",
    "fig, axs = plt.subplots(2,2)\n",
    "#A) transcript length\n",
    "plot_distr(tr_stats[0][0],smooth=3,ax=axs[0,0],**tr_stats[0][1])  \n",
    "#B) internal priming\n",
    "plot_distr(tr_stats[4][0],smooth=3,ax=axs[0,1],density=True,fill=True, **tr_stats[4][1])  \n",
    "#C) RTTS\n",
    "plot_distr(tr_stats[3][0],ax=axs[1,0],density=True,**tr_stats[3][1])  \n",
    "#D) frequency of artifacts\n",
    "plot_bar(f_stats[0],ax=axs[1,1],drop_categories=['MULTIEXON','NOVEL\\nTRANSCRIPT','NOVEL','UNSPLICED','NONCANONICAL\\nSPLICING' ],**f_stats[1])  \n",
    "\n",
    "fig.tight_layout()\n"
   ]
  },
  {
   "cell_type": "markdown",
   "metadata": {},
   "source": [
    "This particular dataset seems to have relativly high fraction of internal priming, affecting 20% of the full lenght reads. "
   ]
  },
  {
   "cell_type": "markdown",
   "metadata": {},
   "source": [
    "## Novel alternative splicing classification\n",
    "In order to assess the types of novel transcripts, isotools extends the SQANTI classification scheme (FSM, ISM, NIC, NNC, novel gene) by subcategories, that facilitate direct biological interpretation. \n",
    "\n",
    "The following  artificial example exemplifies the different subcategories. In the original state, it covers all subcategories (except categories for novel genes). However, users are encouraged to modify the examples, in order to explore edge cases, combinations and other specific cases.\n",
    "The labels in the plots produced below reflect the subcategories assigned by isoseq."
   ]
  },
  {
   "cell_type": "code",
   "execution_count": null,
   "metadata": {},
   "outputs": [],
   "source": [
    "ref=[[[12,20],[30,40], [50,60],[70,81]],\n",
    "     [[11,20],[35,40],         [70,79]],\n",
    "     [[10,20],[30,40], [50,60],[75,80]]]\n",
    "novel={'FSM':         [[10,20],[30,40], [50,60],[70,80]],\n",
    "       \"5' fragment\": [[33,40], [50,60],[70,80]],\n",
    "       \"3' fragment\": [[10,20],[30,40], [50,55]],\n",
    "       \"mono exon\"  : [[22,35]],\n",
    "       \"exon skipping\"     :  [[10,20], [50,60],[70,80]],\n",
    "       \"intron retention\"  :  [[10,40], [50,60],[70,80]],\n",
    "       \"novel combination\" :  [[10,20],[35,40], [50,60],[75,80]],\n",
    "       \"novel junction\"  :   [[10,20],[30,40], [75,80]],\n",
    "       \"novel exonic TSS\"  :  [[26,40], [50,60],[70,80]],\n",
    "       \"novel exonic PAS\"  :  [[10,20],[30,40], [50,66]],\n",
    "       \"novel 5' splice site\":[[10,24],[30,40], [50,60],[70,80]],\n",
    "       \"novel 3' splice site\":[[10,20],[26,40], [50,60],[70,80]],\n",
    "       \"novel exon\"  :        [[10,20],[30,40],[43,47], [50,60],[70,80]],\n",
    "       \"novel intronic TSS\" : [[43,47],[50,60],[70,80]],\n",
    "       \"novel intronic PAS\" : [[10,20],[30,40], [82,90]]}\n",
    "ref={'transcripts':[{'exons':e, 'transcript_name':f'reference {i+1}'} for i,e in enumerate(ref)]}\n",
    "transcripts=[{'exons':e, 'transcript_name':n} for n,e in novel.items()]\n",
    "example=isotools.Gene(10,80,{'strand':'+','ID':'example','reference':ref, 'transcripts':transcripts},None)\n",
    "f,axs=plt.subplots(2,figsize=(10,7), gridspec_kw={'height_ratios': [1, 4]})\n",
    "cat=['FSM','ISM','NIC','NNC','novel gene']\n",
    "sg=example.ref_segment_graph\n",
    "for novel in example.transcripts:\n",
    "    alt_splice=sg.get_alternative_splicing(novel['exons'])\n",
    "    print(f\"{novel['transcript_name']}: {alt_splice[1]}\")\n",
    "    novel['transcript_name']=f\"{','.join(alt_splice[1])} ({cat[alt_splice[0]]}) \"\n",
    "    \n",
    "example.gene_track(ax=axs[0], x_range=[10,90], title='')\n",
    "example.gene_track(reference=False,ax=axs[1], x_range=[10,90], title='', color='green')  \n",
    "for ax in axs:\n",
    "    ax.get_xaxis().set_visible(False)\n",
    "f.tight_layout()\n"
   ]
  },
  {
   "cell_type": "markdown",
   "metadata": {},
   "source": [
    "During import, all isoseq transcripts get classified using this scheme. \n",
    "We can depict the number of identified novel classes. \n",
    "Note that we use the flags defined above to filter transcripts affected by one of the 3 artefacts, using the \"remove\" parameter. Alternatively, users can provide a list of flags with the \"include\" parameter, to exclusively select transcripts with at least one of the flags."
   ]
  },
  {
   "cell_type": "code",
   "execution_count": null,
   "metadata": {},
   "outputs": [],
   "source": [
    "\n",
    "cnr={}\n",
    "for g, trid, tr in isoseq.iter_transcripts():\n",
    "    for anno in tr['annotation'][1]:\n",
    "        cnr[anno]=min(cnr.get(anno,5),tr['annotation'][0])\n",
    "del cnr['FSM']\n",
    "altsplice=[ isoseq.altsplice_stats(groups=isoseq.groups(), weight_by_coverage=True, min_coverage=1, tr_filter=dict( remove=['RTTS', 'FRAGMENT', 'INTERNAL_PRIMING'])),\n",
    "            isoseq.altsplice_stats(groups=isoseq.groups(), weight_by_coverage=True, min_coverage=2, tr_filter=dict( remove=['RTTS', 'FRAGMENT', 'INTERNAL_PRIMING'])),\n",
    "            isoseq.altsplice_stats(groups=isoseq.groups(), weight_by_coverage=False, min_coverage=20, tr_filter=dict( remove=['RTTS', 'FRAGMENT', 'INTERNAL_PRIMING']))]\n",
    "for i in range(3):\n",
    "    altsplice[i][0].index=altsplice[i][0].index+[f'\\n({cat[cnr[subcat]]})' if subcat in cnr else '' for subcat in altsplice[i][0].index]\n",
    "    altsplice[i][0].index=altsplice[i][0].index.str.replace('splice ','\\nsplice ')"
   ]
  },
  {
   "cell_type": "code",
   "execution_count": null,
   "metadata": {},
   "outputs": [],
   "source": [
    "from isotools.plots import plot_bar, plot_distr\n",
    "\n",
    "plt.rcParams[\"figure.figsize\"] = (20,10)\n",
    "_=plot_bar(altsplice[0][0],bar_width=.9,ylabel='fraction of reads [%]', legend=False, rot=90,drop_categories=['FSM'])  \n"
   ]
  },
  {
   "cell_type": "markdown",
   "metadata": {},
   "source": [
    "## Data exploration\n",
    "This cell provides some examples, how the data can be assessed in isotools, and what information is stored on gene and transcript level. As an example, we focus on the 'MAPT' gene, which features alternative splicing and is related to Alzheimer's disease. "
   ]
  },
  {
   "cell_type": "code",
   "execution_count": null,
   "metadata": {},
   "outputs": [],
   "source": [
    "#access gene of interest by Name\n",
    "g=isoseq['MAPT']\n",
    "print(g)\n",
    "#this reveals that the MAPT has 267 different variants, according to isoseq. \n",
    "total_cov=g.coverage.sum()\n",
    "#However, most are supported by few reads only\n",
    "print(f'{sum([cov>total_cov *.01 for cov in g.coverage][0])} transcripts contribute at least 1% to that gene')\n",
    "#lets look at the primary transcript\n",
    "max_i=np.argmax(g.coverage)\n",
    "print(f'The primary transcript is number {max_i} and contributes {g.coverage[0,max_i]/total_cov:.2%}  ({g.coverage[0,max_i]}/{total_cov})')\n",
    "#all the information for this transcript are stored in this dict:\n",
    "primary=g.transcripts[max_i]\n",
    "print(f'\\nThese are the infos for this transcript:')\n",
    "for k,v in primary.items():\n",
    "    print(f'{k}: {str(v)[:100]}{\"...\" if len(str(v))>100 else \"\"}')\n",
    "# this reveals that it is a mono exon in the 3'UTR of that gene.\n",
    "second_i=np.argsort(g.coverage[0])[-2]\n",
    "second=g.transcripts[second_i]\n",
    "print(f'\\nThese are the infos for the second transcript:')\n",
    "for k,v in second.items():\n",
    "    print(f'{k}: {str(v)[:100]}{\"...\" if len(str(v))>100 else \"\"}')\n",
    "\n",
    "# this reveals that it is a FSM with reference transcript nr 7.\n",
    "\n",
    "print(f'\\nThe corresponding reference transcript: ')\n",
    "for k,v in g.ref_transcripts[second[\"annotation\"][1][\"FSM\"][0]].items():\n",
    "    print(f'{k}: {str(v)[:100]}{\"...\" if len(str(v))>100 else \"\"}')\n"
   ]
  },
  {
   "cell_type": "code",
   "execution_count": null,
   "metadata": {},
   "outputs": [],
   "source": [
    "#we can iterate over transcripts and filter by flag:\n",
    "i=0\n",
    "for g,trnr,tr in isoseq.iter_transcripts(include=['INTERNAL_PRIMING']):\n",
    "    print(f'transcript nr {trnr} of {g} with a coverage of {g.coverage[0,trnr]}') \n",
    "    i+=1\n",
    "    if i>10:\n",
    "        break\n",
    "    "
   ]
  },
  {
   "cell_type": "code",
   "execution_count": null,
   "metadata": {},
   "outputs": [],
   "source": [
    "#we can also iterate over transcripts and filter by region (chr[:start-end]), novelty category, or request a minimum coverage:\n",
    "for g,trnr,tr in isoseq.iter_transcripts(region='chr1', include=['novel exon'], min_coverage=100):\n",
    "    print(f'Gene {g.name} has a highly covered transcript with novel exon:')\n",
    "    print(f'Transcript nr {trnr}  with a coverage of {g.coverage[0,trnr]}/{g.coverage.sum()}') \n",
    "    print(f'The novel exon is at position {tr[\"annotation\"][1][\"novel exon\"]}') \n",
    "\n",
    "    "
   ]
  },
  {
   "cell_type": "markdown",
   "metadata": {},
   "source": [
    "## Data vizualization\n",
    "We depict the MAPT gene with its two major exon skipping events as sashimi plot."
   ]
  },
  {
   "cell_type": "code",
   "execution_count": null,
   "metadata": {},
   "outputs": [],
   "source": [
    "plt.rcParams[\"figure.figsize\"] = (20,10)\n",
    "fig,axs=isoseq['MAPT'].sashimi_figure(x_range=[45960000,46015000])\n",
    "fig.tight_layout()"
   ]
  },
  {
   "cell_type": "code",
   "execution_count": null,
   "metadata": {},
   "outputs": [],
   "source": []
  },
  {
   "cell_type": "code",
   "execution_count": null,
   "metadata": {},
   "outputs": [],
   "source": []
  }
 ],
 "metadata": {
  "kernelspec": {
   "display_name": "Python 3",
   "language": "python",
   "name": "python3"
  },
  "language_info": {
   "codemirror_mode": {
    "name": "ipython",
    "version": 3
   },
   "file_extension": ".py",
   "mimetype": "text/x-python",
   "name": "python",
   "nbconvert_exporter": "python",
   "pygments_lexer": "ipython3",
   "version": "3.7.7"
  }
 },
 "nbformat": 4,
 "nbformat_minor": 4
}
