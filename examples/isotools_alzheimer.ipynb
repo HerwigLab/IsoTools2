{
 "cells": [
  {
   "cell_type": "markdown",
   "metadata": {},
   "source": [
    "# Analysis workflow of the pacbio 2019 alzheimer Sequel2 dataset\n",
    "\n",
    "## Preparation\n",
    "1) prepare the working directory and download the reference and data\n",
    "``` sh\n",
    "    cd /my/working/directory\n",
    "    # create some subdirectories\n",
    "    mkdir -p reference isoseq/flnc isoseq/aligned isoseq/pickle tables plots\n",
    "    \n",
    "    # download a reference genome (806 MB)\n",
    "    genome_link='ftp://ftp.ebi.ac.uk/pub/databases/gencode/Gencode_human/release_29/GRCh38.primary_assembly.genome.fa.gz'\n",
    "    wget -P reference -O GRCh38_genome_primary_assembly_gencode_v29.fa.gz ${genome_link} \n",
    "    gunzip reference/GRCh38_genome_primary_assembly_gencode_v29.fa.gz\n",
    "    \n",
    "    # download gencode reference annotation (46.2 MB)\n",
    "    annotation_link='ftp://ftp.ebi.ac.uk/pub/databases/gencode/Gencode_human/release_29/gencode.v29.annotation.gff3.gz'\n",
    "    wget -P reference -O gencode_v29_annotation.gff3.gz ${annotation_link} \n",
    "    \n",
    "    # download the isoseq flnc data (4.1 GB)\n",
    "    isoseq_link='https://downloads.pacbcloud.com/public/dataset/Alzheimer2019_IsoSeq/FullLengthReads/flnc.bam'\n",
    "    wget -P isoseq/flnc -O alzheimer2019_isoseq_flnc.bam ${isoseq_link} \n",
    "```\n",
    "\n",
    "2) align the isoseq data to the reference genome using minimap2.\n",
    "If the pacbio isoseq3 workflow is [installed](https://github.com/PacificBiosciences/IsoSeq_SA3nUP/wiki/Tutorial:-Installing-and-Running-Iso-Seq-3-using-Conda) you can use the pacbio version of minimap2 as follows:\n",
    "\n",
    "``` sh\n",
    "    #activate the isoseq3 environement (assuming it is called pacbio)\n",
    "    conda activate pacbio\n",
    "    n_threads=8\n",
    "    sample='alzheimer2019_isoseq'\n",
    "    ref='reference/GRCh38_genome_primary_assembly_gencode_v29.fa'\n",
    "    pbmm2 align ${ref} isoseq/flnc/${sample}_flnc.bam isoseq/aligned/${sample}_aligned.sorted.bam --preset ISOSEQ --sort -j $n_threads \n",
    "```\n",
    "\n"
   ]
  },
  {
   "cell_type": "markdown",
   "metadata": {},
   "source": [
    "## Isotools workflow"
   ]
  },
  {
   "cell_type": "code",
   "execution_count": 1,
   "metadata": {},
   "outputs": [],
   "source": [
    "from  isotools.transcriptome import Transcriptome\n",
    "import pickle\n",
    "import matplotlib.pyplot as plt\n",
    "import numpy as np\n",
    "import pandas as pd\n"
   ]
  },
  {
   "cell_type": "code",
   "execution_count": 2,
   "metadata": {},
   "outputs": [],
   "source": [
    "sample='alzheimer2019_isoseq'\n",
    "bam=f'isoseq/aligned/{sample}_aligned.sorted.bam'\n",
    "genome='reference/GRCh38_genome_primary_assembly_gencode_v29.fa'\n",
    "anno='reference/gencode_v29_annotation'\n",
    "\n"
   ]
  },
  {
   "cell_type": "code",
   "execution_count": null,
   "metadata": {},
   "outputs": [],
   "source": [
    "try:\n",
    "    #try to restore previously prepared data\n",
    "    isoseq=Transcriptome(f'isoseq/pickle/{sample}_isotools.pkl')\n",
    "except FileNotFoundError:\n",
    "    #import the reference \n",
    "    isoseq=Transcriptome.from_reference(anno+'.gff3.gz') \n",
    "    # save the reference, so it it can be restored for other analysis\n",
    "    isoseq.save_reference(anno+'.isotools.pkl') \n",
    "    # import the long read data and compare to reference (only one sample for this dataset)\n",
    "    isoseq.add_sample_from_bam(bam, sample_name='alzheimer_1', group='alzheimer') \n",
    "    # compute QC metrics for all transcripts\n",
    "    isoseq.add_biases(genome) #3:41 min\n",
    "    # update the index for fast gene access by name/id\n",
    "    isoseq.make_index()\n",
    "    # save the current data\n",
    "    isoseq.save(f'isoseq/pickle/{sample}_isotools.pkl')\n"
   ]
  },
  {
   "cell_type": "code",
   "execution_count": null,
   "metadata": {},
   "outputs": [],
   "source": []
  },
  {
   "cell_type": "code",
   "execution_count": null,
   "metadata": {},
   "outputs": [],
   "source": []
  }
 ],
 "metadata": {
  "kernelspec": {
   "display_name": "Python 3",
   "language": "python",
   "name": "python3"
  },
  "language_info": {
   "codemirror_mode": {
    "name": "ipython",
    "version": 3
   },
   "file_extension": ".py",
   "mimetype": "text/x-python",
   "name": "python",
   "nbconvert_exporter": "python",
   "pygments_lexer": "ipython3",
   "version": "3.7.4"
  }
 },
 "nbformat": 4,
 "nbformat_minor": 4
}
